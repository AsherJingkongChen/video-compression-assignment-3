{
 "cells": [
  {
   "cell_type": "markdown",
   "metadata": {},
   "source": [
    "# Video Compression Assignment 3"
   ]
  },
  {
   "cell_type": "markdown",
   "metadata": {},
   "source": [
    "In this assignment, we will use the block-based encoding approach, where the size of a block is 8x8. Only the Luma component is considered for the following questions."
   ]
  },
  {
   "cell_type": "markdown",
   "metadata": {},
   "source": [
    "### Prerequisites\n",
    "\n",
    "- Programming langauge: Python 3.10+ (IPython)\n",
    "- Framework: Jupyter"
   ]
  },
  {
   "cell_type": "markdown",
   "metadata": {},
   "source": [
    "Install dependencies from PyPI:"
   ]
  },
  {
   "cell_type": "code",
   "execution_count": 18,
   "metadata": {},
   "outputs": [
    {
     "name": "stdout",
     "output_type": "stream",
     "text": [
      "Note: you may need to restart the kernel to use updated packages.\n"
     ]
    }
   ],
   "source": [
    "%pip install \\\n",
    "    --disable-pip-version-check \\\n",
    "    --quiet \\\n",
    "    numpy \\\n",
    "    Pillow"
   ]
  },
  {
   "cell_type": "markdown",
   "metadata": {},
   "source": [
    "## Task 1\n",
    "\n",
    "> Fourier Transform\n",
    "\n",
    "Please apply the Fourier Transform to the luma component of `foreman_qcif_0_rgb.bmp` and demonstrate its magnitudes in a 2-D image, as shown in the example below. Note that you need to shift the origin to the center of the image for the magnitude plot.\n",
    "\n",
    "<div style=\"text-align: center;\">\n",
    "    <img alt=\"Image 1\" src=\"https://raw.githubusercontent.com/AsherJingkongChen/video-compression-assignment-3/main/notebooks/images/1.png\" width=\"50%\">\n",
    "</div>"
   ]
  },
  {
   "cell_type": "markdown",
   "metadata": {},
   "source": [
    "## Solution of Task 1"
   ]
  },
  {
   "cell_type": "markdown",
   "metadata": {},
   "source": []
  },
  {
   "cell_type": "code",
   "execution_count": null,
   "metadata": {},
   "outputs": [],
   "source": []
  },
  {
   "cell_type": "markdown",
   "metadata": {},
   "source": [
    "## Task 2\n",
    "\n",
    "> DCT\n",
    "\n",
    "Please apply DCT to all the 8x8 luma blocks of `foreman_qcif_0_rgb.bmp` and use the quantization matrix below for quantization. After DCT and quantization, please apply inverse quantization and IDCT to decode all the blocks and show the decoded frame.\n",
    "\n",
    "$$\n",
    "\\begin{bmatrix}\n",
    "16 & 11 & 10 & 16 & 24 & 40 & 51 & 61 \\\\\n",
    "12 & 12 & 14 & 19 & 26 & 58 & 60 & 55 \\\\\n",
    "14 & 13 & 16 & 24 & 40 & 57 & 69 & 56 \\\\\n",
    "14 & 17 & 22 & 29 & 51 & 87 & 80 & 62 \\\\\n",
    "18 & 22 & 37 & 56 & 68 & 109 & 103 & 77 \\\\\n",
    "24 & 35 & 55 & 64 & 81 & 104 & 113 & 92 \\\\\n",
    "49 & 64 & 78 & 87 & 103 & 121 & 120 & 101 \\\\\n",
    "72 & 92 & 95 & 98 & 112 & 100 & 103 & 99 \\\\\n",
    "\\end{bmatrix}\n",
    "$$"
   ]
  },
  {
   "cell_type": "markdown",
   "metadata": {},
   "source": [
    "## Solution of Task 2"
   ]
  },
  {
   "cell_type": "markdown",
   "metadata": {},
   "source": [
    "### 2-D Discrete Cosine Transform\n",
    "\n",
    "#### Forward Transform (for `NxN` block)\n",
    "\n",
    "The formula adapted from the course slides:\n",
    "\n",
    "$$\n",
    "F(u, v) = \\frac{2}{N}C(u)C(v)\\sum_{x=0}^{N-1}\\sum_{y=0}^{N-1}f(x, y)\\cos\\left(\\frac{(2x+1)u\\pi}{2N}\\right)\\cos\\left(\\frac{(2y+1)v\\pi}{2N}\\right) \\\\\n",
    "\\text{where } C(t) = \\begin{cases} \\frac{2}{\\sqrt{N}} & \\text{if } t = 0 \\\\ 2 \\sqrt{\\frac{2}{N}} & \\text{otherwise} \\end{cases}$$\n",
    "\n",
    "can be simplified as:\n",
    "\n",
    "$$\n",
    "F(u, v) = \\frac{8}{N^{2}}C(u)C(v)\\sum_{x=0}^{N-1}\\sum_{y=0}^{N-1}f(x, y)\\cos\\left(\\frac{(2x+1)u\\pi}{2N}\\right)\\cos\\left(\\frac{(2y+1)v\\pi}{2N}\\right) \\\\\n",
    "\\text{where } C(t) = \\begin{cases} 1 & \\text{if } t = 0 \\\\ \\sqrt{2} & \\text{otherwise} \\end{cases}$$\n",
    "\n",
    "#### Inverse Transform (for `NxN` block)\n",
    "\n",
    "The formula adapted from the course slides:\n",
    "\n",
    "$$\n",
    "f(x, y) = \\frac{2}{N}\\sum_{u=0}^{N-1}\\sum_{v=0}^{N-1}C(u)C(v)F(u, v)\\cos\\left(\\frac{(2x+1)u\\pi}{2N}\\right)\\cos\\left(\\frac{(2y+1)v\\pi}{2N}\\right) \\\\\n",
    "\\text{where } C(t) = \\begin{cases} \\frac{2}{\\sqrt{N}} & \\text{if } t = 0 \\\\ 2 \\sqrt{\\frac{2}{N}} & \\text{otherwise} \\end{cases}\n",
    "$$\n",
    "\n",
    "can be simplified as:\n",
    "\n",
    "$$\n",
    "f(x, y) = \\frac{8}{N^{2}}\\sum_{u=0}^{N-1}\\sum_{v=0}^{N-1}C(u)C(v)F(u, v)\\cos\\left(\\frac{(2x+1)u\\pi}{2N}\\right)\\cos\\left(\\frac{(2y+1)v\\pi}{2N}\\right) \\\\\n",
    "\\text{where } C(t) = \\begin{cases} 1 & \\text{if } t = 0 \\\\ \\sqrt{2} & \\text{otherwise} \\end{cases}$$"
   ]
  },
  {
   "cell_type": "markdown",
   "metadata": {},
   "source": [
    "Implement the DCT and IDCT functions:"
   ]
  },
  {
   "cell_type": "code",
   "execution_count": 19,
   "metadata": {},
   "outputs": [],
   "source": [
    "from numpy.typing import NDArray\n",
    "from numpy import float64, uint8\n",
    "\n",
    "\n",
    "def dct_forward(source: NDArray[uint8], block_size: int) -> NDArray[float64]:\n",
    "    from numpy import atleast_2d, float64\n",
    "    from math import sqrt, cos, pi\n",
    "\n",
    "    source = atleast_2d(source).astype(float64)\n",
    "    block_size = int(block_size)\n",
    "\n",
    "    N = block_size\n",
    "    C = 8 / N / N\n",
    "    PI_2N = pi / 2 / N\n",
    "    SR_2 = sqrt(2)\n",
    "\n",
    "    target = source.copy()\n",
    "    for i in range(0, target.shape[0] - N + 1, N):\n",
    "        for j in range(0, target.shape[1] - N + 1, N):\n",
    "            for u in range(N):\n",
    "                for v in range(N):\n",
    "                    a = 0.0\n",
    "                    for x in range(N):\n",
    "                        for y in range(N):\n",
    "                            a += (\n",
    "                                source[i + x, j + y]\n",
    "                                * cos((2 * x + 1) * u * PI_2N)\n",
    "                                * cos((2 * y + 1) * v * PI_2N)\n",
    "                            )\n",
    "                    target[i + u, j + v] = (\n",
    "                        C\n",
    "                        * (1 if u == 0 else SR_2)\n",
    "                        * (1 if v == 0 else SR_2)\n",
    "                        * a\n",
    "                    )\n",
    "    return target\n",
    "\n",
    "\n",
    "def dct_inverse(source: NDArray[float64], block_size: int) -> NDArray[uint8]:\n",
    "    from numpy import atleast_2d, float64, uint8\n",
    "    from math import cos, pi, sqrt\n",
    "\n",
    "    source = atleast_2d(source).astype(float64)\n",
    "    block_size = int(block_size)\n",
    "\n",
    "    N = block_size\n",
    "    C = 8 / N / N\n",
    "    PI_2N = pi / 2 / N\n",
    "    SR_2 = sqrt(2)\n",
    "\n",
    "    target = source.copy()\n",
    "    for i in range(0, target.shape[0] - N + 1, N):\n",
    "        for j in range(0, target.shape[1] - N + 1, N):\n",
    "            for x in range(N):\n",
    "                for y in range(N):\n",
    "                    a = 0.0\n",
    "                    for u in range(N):\n",
    "                        for v in range(N):\n",
    "                            a += (\n",
    "                                (1 if u == 0 else SR_2)\n",
    "                                * (1 if v == 0 else SR_2)\n",
    "                                * source[i + u, j + v]\n",
    "                                * cos((2 * x + 1) * u * PI_2N)\n",
    "                                * cos((2 * y + 1) * v * PI_2N)\n",
    "                            )\n",
    "                    target[i + x, j + y] = C * a\n",
    "    target = target.round().astype(uint8)\n",
    "    return target"
   ]
  },
  {
   "cell_type": "markdown",
   "metadata": {},
   "source": [
    "Test the DCT and IDCT functions:"
   ]
  },
  {
   "cell_type": "code",
   "execution_count": 20,
   "metadata": {},
   "outputs": [
    {
     "name": "stdout",
     "output_type": "stream",
     "text": [
      "[[1058.9  108.4  -26.7  -78.4   12.4    8.7  -12.6    1.9]\n",
      " [ 159.4   -3.2   86.9   73.9   -5.8  -32.6  -17.5   65. ]\n",
      " [ -17.1   43.1   24.3  -16.5 -108.8    6.2   21.    39.5]\n",
      " [  48.9   78.3   37.4   50.1  156.9  -45.9    4.2  117.8]\n",
      " [ -86.9   71.7  113.2   14.6   78.6  -49.7  -50.3  -39.8]\n",
      " [  31.  -143.2   27.2   -1.2  -44.3  -44.8 -143.3  -55.9]\n",
      " [  39.4  191.5  -85.2   -1.6  -20.   -32.4  -61.8  105.4]\n",
      " [ -21.6  -42.3   55.5  -49.2   80.7   42.8  -43.3   15.9]\n",
      " [1014.9  -97.1   40.    45.1   40.6   -5.   -42.9  116.3]\n",
      " [ -90.9  -76.3   67.2 -121.8   52.6  -40.1  -75.9 -113.9]\n",
      " [-135.7 -122.2    6.1 -147.6  -45.7 -132.8  -70.    13.4]\n",
      " [   8.2   10.1  -55.4  -31.2   85.2  204.4   68.7  169.9]\n",
      " [ 116.1  -81.2  110.5  -49.2  -75.1   41.1   61.3  -69.9]\n",
      " [ -57.7   16.3   78.6  -12.1  -79.7   91.6   20.5  -52.2]\n",
      " [ -26.2   35.7   -0.5   -2.4   -8.   -18.9  -88.8  -83.1]\n",
      " [ -35.2   65.1 -131.4   14.9 -101.4   53.4   11.2   58.9]\n",
      " [ 228.    63.    20.   237.   249.   180.     4.   143. ]]\n"
     ]
    }
   ],
   "source": [
    "from numpy.random import randint\n",
    "from numpy import set_printoptions\n",
    "\n",
    "mat = randint(low=0, high=256, size=(17, 8), dtype=uint8)\n",
    "mat_dct = dct_forward(mat, 8)\n",
    "mat_idct = dct_inverse(mat_dct, 8)\n",
    "\n",
    "set_printoptions(precision=1)\n",
    "print(mat_dct)\n",
    "\n",
    "assert (mat == mat_idct).all()"
   ]
  },
  {
   "cell_type": "markdown",
   "metadata": {},
   "source": [
    "### Quantization\n",
    "\n",
    "#### Forward Transform\n",
    "\n",
    "$$\n",
    "F'(u, v) = \\text{round}\\left(\\frac{F(u, v)}{Q(u, v)}\\right) \\text{ where } Q \\text{ is the quantization matrix}\n",
    "$$\n",
    "\n",
    "#### Inverse Transform\n",
    "\n",
    "$$\n",
    "F(u, v) = F'(u, v) \\cdot Q(u, v) \\text{ where } Q \\text{ is the quantization matrix}\n",
    "$$"
   ]
  },
  {
   "cell_type": "code",
   "execution_count": 21,
   "metadata": {},
   "outputs": [],
   "source": [
    "from numpy.typing import NDArray\n",
    "from numpy import array, float64, int64, uint8\n",
    "from typing import Optional\n",
    "\n",
    "COMMON_QUANTIZATION_MATRIX = array(\n",
    "    [\n",
    "        [16, 11, 10, 16, 24, 40, 51, 61],\n",
    "        [12, 12, 14, 19, 26, 58, 60, 55],\n",
    "        [14, 13, 16, 24, 40, 57, 69, 56],\n",
    "        [14, 17, 22, 29, 51, 87, 80, 62],\n",
    "        [18, 22, 37, 56, 68, 109, 103, 77],\n",
    "        [24, 35, 55, 64, 81, 104, 113, 92],\n",
    "        [49, 64, 78, 87, 103, 121, 120, 101],\n",
    "        [72, 92, 95, 98, 112, 100, 103, 99],\n",
    "    ],\n",
    "    dtype=uint8,\n",
    ")\n",
    "\n",
    "\n",
    "def quantize_forward(\n",
    "    source: NDArray[float64],\n",
    "    matrix: Optional[NDArray[uint8]] = None,\n",
    ") -> NDArray[int64]:\n",
    "    from numpy import atleast_2d, float64, uint8, int64\n",
    "\n",
    "    source = atleast_2d(source).astype(float64)\n",
    "    matrix = (\n",
    "        atleast_2d(matrix).astype(uint8)\n",
    "        if matrix\n",
    "        else COMMON_QUANTIZATION_MATRIX\n",
    "    )\n",
    "\n",
    "    target = source.copy()\n",
    "    for i in range(0, target.shape[0] - matrix.shape[0] + 1, matrix.shape[0]):\n",
    "        for j in range(\n",
    "            0, target.shape[1] - matrix.shape[1] + 1, matrix.shape[1]\n",
    "        ):\n",
    "            target[i : i + matrix.shape[0], j : j + matrix.shape[1]] = (\n",
    "                source[i : i + matrix.shape[0], j : j + matrix.shape[1]]\n",
    "                / matrix\n",
    "            ).round()\n",
    "    target = target.astype(int64)\n",
    "    return target\n",
    "\n",
    "\n",
    "def quantize_inverse(\n",
    "    source: NDArray[int64],\n",
    "    matrix: Optional[NDArray[uint8]] = None,\n",
    ") -> NDArray[float64]:\n",
    "    from numpy import atleast_2d, float64, uint8\n",
    "\n",
    "    source = atleast_2d(source).astype(float64)\n",
    "    matrix = (\n",
    "        atleast_2d(matrix).astype(uint8)\n",
    "        if matrix\n",
    "        else COMMON_QUANTIZATION_MATRIX\n",
    "    )\n",
    "\n",
    "    target = source.copy()\n",
    "    for i in range(0, target.shape[0] - matrix.shape[0] + 1, matrix.shape[0]):\n",
    "        for j in range(\n",
    "            0, target.shape[1] - matrix.shape[1] + 1, matrix.shape[1]\n",
    "        ):\n",
    "            target[i : i + matrix.shape[0], j : j + matrix.shape[1]] = (\n",
    "                source[i : i + matrix.shape[0], j : j + matrix.shape[1]]\n",
    "                * matrix\n",
    "            )\n",
    "    return target"
   ]
  },
  {
   "cell_type": "markdown",
   "metadata": {},
   "source": [
    "Test the quantization and inverse quantization functions:"
   ]
  },
  {
   "cell_type": "code",
   "execution_count": 22,
   "metadata": {},
   "outputs": [
    {
     "name": "stdout",
     "output_type": "stream",
     "text": [
      "15.045141116527034\n",
      "[[ 10.   11.   13.    7.    2.   -0.   -2.    1. ]\n",
      " [ -2.   17.    5.   -6.   -6.   -0.   -4.    1. ]\n",
      " [  5.   -5.    0.    1.    3.   -1.    1.   -2. ]\n",
      " [  9.   -4.   -4.   -2.    2.   -1.   -1.    1. ]\n",
      " [  1.   -2.   -1.   -0.    1.   -1.   -1.    1. ]\n",
      " [ -6.    1.    1.   -1.    2.   -1.   -0.    1. ]\n",
      " [  1.    1.    2.    0.   -1.    1.   -0.   -2. ]\n",
      " [ -0.    1.    2.   -0.    1.    1.   -0.    1. ]\n",
      " [ 10.   26.    9.    4.    2.    2.    0.   -2. ]\n",
      " [  4.   11.  -13.    7.   -6.    2.    3.   -3. ]\n",
      " [  7.    8.   -3.   -4.    3.    1.   -1.    2. ]\n",
      " [-13.    6.    2.   -3.   -1.    0.    1.   -2. ]\n",
      " [  2.    4.    4.   -1.    1.    1.    2.   -2. ]\n",
      " [  3.    0.    4.    3.   -0.    1.   -1.   -0. ]\n",
      " [  1.   -0.   -3.   -2.    0.    0.    0.    1. ]\n",
      " [  2.   -1.    1.   -1.    0.    2.    0.   -1. ]\n",
      " [132.6 -74.8 -50.9  47.4 -16.6  29.9 133.7 134.8]]\n"
     ]
    }
   ],
   "source": [
    "from numpy.random import randn\n",
    "from numpy import set_printoptions\n",
    "\n",
    "mat = randn(17, 8) * 100\n",
    "mat_q = quantize_forward(mat)\n",
    "mat_iq = quantize_inverse(mat_q)\n",
    "\n",
    "set_printoptions(suppress=True)\n",
    "\n",
    "print(abs((mat - mat_iq)).mean())\n",
    "print(mat_q)"
   ]
  },
  {
   "cell_type": "markdown",
   "metadata": {},
   "source": [
    "Load the image and apply the DCT and quantization:"
   ]
  },
  {
   "cell_type": "code",
   "execution_count": 29,
   "metadata": {},
   "outputs": [
    {
     "data": {
      "image/jpeg": "[encoded data removed]",
      "image/png": "[encoded data removed]",
      "text/plain": [
       "<PIL.Image.Image image mode=L size=176x144>"
      ]
     },
     "metadata": {},
     "output_type": "display_data"
    },
    {
     "data": {
      "image/jpeg": "[encoded data removed]",
      "image/png": "[encoded data removed]",
      "text/plain": [
       "<PIL.Image.Image image mode=L size=176x144>"
      ]
     },
     "metadata": {},
     "output_type": "display_data"
    },
    {
     "data": {
      "text/plain": [
       "{'source_data': array([[ 32, 233, 251, ..., 212, 230, 203],\n",
       "        [ 39, 212, 206, ..., 220, 226, 203],\n",
       "        [ 37, 207, 187, ..., 191, 228, 200],\n",
       "        ...,\n",
       "        [ 14, 132, 215, ..., 176, 174, 154],\n",
       "        [ 15, 132, 215, ..., 191, 193, 178],\n",
       "        [ 14, 131, 212, ..., 128, 127, 118]], dtype=uint8),\n",
       " 'encoded_data': array([[1531.5, -326.1, -276.4, ...,   19.8,  -16. ,    1.3],\n",
       "        [  25. ,   96.2,   11.2, ...,   10.3,   -6.7,    7.3],\n",
       "        [  74.9,  -58.1,  -38.7, ...,   -9.6,   -2.9,   -2.2],\n",
       "        ...,\n",
       "        [  -1.5,    1.6,    1.8, ...,    6. ,    8.3,    5.3],\n",
       "        [  -1.7,    1.6,   -2.6, ...,   11.6,    0.8,    1. ],\n",
       "        [   2.8,   -1.9,   -0.8, ...,   -0.2,   -5.4,   -1.2]]),\n",
       " 'quantized_data': array([[ 96., -30., -28., ...,   0.,  -0.,   0.],\n",
       "        [  2.,   8.,   1., ...,   0.,  -0.,   0.],\n",
       "        [  5.,  -4.,  -2., ...,  -0.,  -0.,  -0.],\n",
       "        ...,\n",
       "        [ -0.,   0.,   0., ...,   0.,   0.,   0.],\n",
       "        [ -0.,   0.,  -0., ...,   0.,   0.,   0.],\n",
       "        [  0.,  -0.,  -0., ...,  -0.,  -0.,  -0.]]),\n",
       " 'dequantized_data': array([[1536., -330., -280., ...,    0.,   -0.,    0.],\n",
       "        [  24.,   96.,   14., ...,    0.,   -0.,    0.],\n",
       "        [  70.,  -52.,  -32., ...,   -0.,   -0.,   -0.],\n",
       "        ...,\n",
       "        [  -0.,    0.,    0., ...,    0.,    0.,    0.],\n",
       "        [  -0.,    0.,   -0., ...,    0.,    0.,    0.],\n",
       "        [   0.,   -0.,   -0., ...,   -0.,   -0.,   -0.]]),\n",
       " 'decoded_data': array([[ 22, 242,   2, ..., 222, 215, 207],\n",
       "        [ 43, 203, 202, ..., 220, 224, 204],\n",
       "        [ 55, 200, 196, ..., 189, 219, 215],\n",
       "        ...,\n",
       "        [ 14, 133, 213, ..., 179, 169, 141],\n",
       "        [ 13, 132, 211, ..., 188, 194, 194],\n",
       "        [ 13, 132, 211, ..., 132, 121, 114]], dtype=uint8)}"
      ]
     },
     "metadata": {},
     "output_type": "display_data"
    }
   ],
   "source": [
    "from IPython.display import display\n",
    "from pathlib import Path\n",
    "from PIL import Image\n",
    "from numpy import asarray\n",
    "\n",
    "source_path = Path(\"../resources/foreman_qcif_0_rgb.bmp\").resolve()\n",
    "source_image = Image.open(source_path).convert(mode=\"L\")\n",
    "source_data = asarray(source_image)\n",
    "encoded_data = dct_forward(source_data, 8)\n",
    "quantized_data = quantize_forward(encoded_data)\n",
    "dequantized_data = quantize_inverse(quantized_data)\n",
    "decoded_data = dct_inverse(dequantized_data, 8)\n",
    "target_image = Image.fromarray(decoded_data, mode=\"L\")\n",
    "\n",
    "display(source_image)\n",
    "display(target_image)\n",
    "\n",
    "display(\n",
    "    dict(\n",
    "        source_data=source_data,\n",
    "        encoded_data=encoded_data,\n",
    "        quantized_data=quantized_data,\n",
    "        dequantized_data=dequantized_data,\n",
    "        decoded_data=decoded_data,\n",
    "    )\n",
    ")"
   ]
  },
  {
   "cell_type": "code",
   "execution_count": 24,
   "metadata": {
    "vscode": {
     "languageId": "html"
    }
   },
   "outputs": [
    {
     "data": {
      "text/html": [
       "<style>\n",
       "/* Do not render this cell */\n",
       "@media print {\n",
       "  .jp-Cell.jp-Notebook-cell:last-child {\n",
       "    display: none;\n",
       "  }\n",
       "}\n",
       "\n",
       ":root {\n",
       "  --jp-content-link-color: dodgerblue;\n",
       "}\n",
       "@page {\n",
       "  size: A3 portrait;\n",
       "  margin: 5mm;\n",
       "}\n",
       "@media screen {\n",
       "    body {\n",
       "        margin: 5mm;\n",
       "    }\n",
       "}\n",
       "a code {\n",
       "    color: var(--jp-content-link-color) !important;\n",
       "}\n",
       ".jp-RenderedHTMLCommon {\n",
       "  font-family: Calibri, Verdana, sans-serif !important;\n",
       "  font-size: 13px !important;\n",
       "  font-weight: 400 !important;\n",
       "  line-height: 1.35 !important;\n",
       "}\n",
       "code, pre {\n",
       "    font-family: Monaco, monospace !important;\n",
       "}\n",
       "h1 {\n",
       "    text-align: center !important;\n",
       "}\n",
       "h1, h2, h3, h4, h5, h6, strong {\n",
       "    font-weight: 700 !important;\n",
       "}\n",
       "h2 {\n",
       "  page-break-before: always;\n",
       "}\n",
       "pre {\n",
       "  white-space: pre-wrap;\n",
       "}\n",
       "table, td, th, tr, tbody, thead, tfoot {\n",
       "  page-break-inside: avoid !important;\n",
       "}\n",
       ".jp-RenderedHTMLCommon td,\n",
       ".jp-RenderedHTMLCommon th,\n",
       ".jp-RenderedHTMLCommon tr {\n",
       "  border: 1px solid var(--md-grey-500);\n",
       "}\n",
       ".jp-RenderedHTMLCommon table {\n",
       "  margin-left: 2em;\n",
       "}\n",
       ".jp-CodeCell {\n",
       "    margin-bottom: 1.5em;\n",
       "}\n",
       "</style>\n"
      ],
      "text/plain": [
       "<IPython.core.display.HTML object>"
      ]
     },
     "metadata": {},
     "output_type": "display_data"
    }
   ],
   "source": [
    "%%html\n",
    "<style>\n",
    "/* Do not render this cell */\n",
    "@media print {\n",
    "  .jp-Cell.jp-Notebook-cell:last-child {\n",
    "    display: none;\n",
    "  }\n",
    "}\n",
    "\n",
    ":root {\n",
    "  --jp-content-link-color: dodgerblue;\n",
    "}\n",
    "@page {\n",
    "  size: A3 portrait;\n",
    "  margin: 5mm;\n",
    "}\n",
    "@media screen {\n",
    "    body {\n",
    "        margin: 5mm;\n",
    "    }\n",
    "}\n",
    "a code {\n",
    "    color: var(--jp-content-link-color) !important;\n",
    "}\n",
    ".jp-RenderedHTMLCommon {\n",
    "  font-family: Calibri, Verdana, sans-serif !important;\n",
    "  font-size: 13px !important;\n",
    "  font-weight: 400 !important;\n",
    "  line-height: 1.35 !important;\n",
    "}\n",
    "code, pre {\n",
    "    font-family: Monaco, monospace !important;\n",
    "}\n",
    "h1 {\n",
    "    text-align: center !important;\n",
    "}\n",
    "h1, h2, h3, h4, h5, h6, strong {\n",
    "    font-weight: 700 !important;\n",
    "}\n",
    "h2 {\n",
    "  page-break-before: always;\n",
    "}\n",
    "pre {\n",
    "  white-space: pre-wrap;\n",
    "}\n",
    "table, td, th, tr, tbody, thead, tfoot {\n",
    "  page-break-inside: avoid !important;\n",
    "}\n",
    ".jp-RenderedHTMLCommon td,\n",
    ".jp-RenderedHTMLCommon th,\n",
    ".jp-RenderedHTMLCommon tr {\n",
    "  border: 1px solid var(--md-grey-500);\n",
    "}\n",
    ".jp-RenderedHTMLCommon table {\n",
    "  margin-left: 2em;\n",
    "}\n",
    ".jp-CodeCell {\n",
    "    margin-bottom: 1.5em;\n",
    "}\n",
    "</style>"
   ]
  }
 ],
 "metadata": {
  "kernelspec": {
   "display_name": ".venv",
   "language": "python",
   "name": "python3"
  },
  "language_info": {
   "codemirror_mode": {
    "name": "ipython",
    "version": 3
   },
   "file_extension": ".py",
   "mimetype": "text/x-python",
   "name": "python",
   "nbconvert_exporter": "python",
   "pygments_lexer": "ipython3",
   "version": "3.12.2"
  }
 },
 "nbformat": 4,
 "nbformat_minor": 2
}
