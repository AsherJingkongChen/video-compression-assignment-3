{
 "cells": [
  {
   "cell_type": "markdown",
   "metadata": {},
   "source": [
    "# Video Compression Assignment 3"
   ]
  },
  {
   "cell_type": "markdown",
   "metadata": {},
   "source": [
    "In this assignment, we will use the block-based encoding approach, where the size of a block is 8x8. Only the Luma component is considered for the following questions."
   ]
  },
  {
   "cell_type": "markdown",
   "metadata": {},
   "source": [
    "### Prerequisites\n",
    "\n",
    "- Programming langauge: Python 3.10+ (IPython)\n",
    "- Framework: Jupyter"
   ]
  },
  {
   "cell_type": "markdown",
   "metadata": {},
   "source": [
    "Install dependencies from PyPI:"
   ]
  },
  {
   "cell_type": "code",
   "execution_count": 1,
   "metadata": {},
   "outputs": [
    {
     "name": "stdout",
     "output_type": "stream",
     "text": [
      "Note: you may need to restart the kernel to use updated packages.\n"
     ]
    }
   ],
   "source": [
    "%pip install \\\n",
    "    --disable-pip-version-check \\\n",
    "    --quiet \\\n",
    "    numpy \\\n",
    "    Pillow \\\n",
    "    scikit-image"
   ]
  },
  {
   "cell_type": "markdown",
   "metadata": {},
   "source": [
    "## Task 1\n",
    "\n",
    "> Fourier Transform\n",
    "\n",
    "Please apply the Fourier Transform to the luma component of `foreman_qcif_0_rgb.bmp` and demonstrate its magnitudes in a 2-D image, as shown in the example below. Note that you need to shift the origin to the center of the image for the magnitude plot.\n",
    "\n",
    "<div style=\"text-align: center;\">\n",
    "    <img alt=\"Image 1\" src=\"https://raw.githubusercontent.com/AsherJingkongChen/video-compression-assignment-3/main/notebooks/images/1.png\" width=\"50%\">\n",
    "</div>"
   ]
  },
  {
   "cell_type": "markdown",
   "metadata": {},
   "source": [
    "## Solution of Task 1"
   ]
  },
  {
   "cell_type": "markdown",
   "metadata": {},
   "source": []
  },
  {
   "cell_type": "code",
   "execution_count": null,
   "metadata": {},
   "outputs": [],
   "source": []
  },
  {
   "cell_type": "markdown",
   "metadata": {},
   "source": [
    "## Task 2\n",
    "\n",
    "> DCT\n",
    "\n",
    "Please apply DCT to all the 8x8 luma blocks of `foreman_qcif_0_rgb.bmp` and use the quantization matrix below for quantization. After DCT and quantization, please apply inverse quantization and IDCT to decode all the blocks and show the decoded frame.\n",
    "\n",
    "$$\n",
    "\\begin{bmatrix}\n",
    "16 & 11 & 10 & 16 & 24 & 40 & 51 & 61 \\\\\n",
    "12 & 12 & 14 & 19 & 26 & 58 & 60 & 55 \\\\\n",
    "14 & 13 & 16 & 24 & 40 & 57 & 69 & 56 \\\\\n",
    "14 & 17 & 22 & 29 & 51 & 87 & 80 & 62 \\\\\n",
    "18 & 22 & 37 & 56 & 68 & 109 & 103 & 77 \\\\\n",
    "24 & 35 & 55 & 64 & 81 & 104 & 113 & 92 \\\\\n",
    "49 & 64 & 78 & 87 & 103 & 121 & 120 & 101 \\\\\n",
    "72 & 92 & 95 & 98 & 112 & 100 & 103 & 99 \\\\\n",
    "\\end{bmatrix}\n",
    "$$"
   ]
  },
  {
   "cell_type": "markdown",
   "metadata": {},
   "source": [
    "## Solution of Task 2"
   ]
  },
  {
   "cell_type": "markdown",
   "metadata": {},
   "source": [
    "### 2-D Discrete Cosine Transform\n",
    "\n",
    "#### Forward Transform (for `NxN` block)\n",
    "\n",
    "The formula adapted from the course slides:\n",
    "\n",
    "$$\n",
    "F(u, v) = \\frac{2}{N}C(u)C(v)\\sum_{x=0}^{N-1}\\sum_{y=0}^{N-1}f(x, y)\\cos\\left(\\frac{(2x+1)u\\pi}{2N}\\right)\\cos\\left(\\frac{(2y+1)v\\pi}{2N}\\right) \\\\\n",
    "\\text{where } C(t) = \\begin{cases} \\frac{2}{\\sqrt{N}} & \\text{if } t = 0 \\\\ 2 \\sqrt{\\frac{2}{N}} & \\text{otherwise} \\end{cases}$$\n",
    "\n",
    "can be simplified as:\n",
    "\n",
    "$$\n",
    "F(u, v) = \\frac{8}{N^{2}}C(u)C(v)\\sum_{x=0}^{N-1}\\sum_{y=0}^{N-1}f(x, y)\\cos\\left(\\frac{(2x+1)u\\pi}{2N}\\right)\\cos\\left(\\frac{(2y+1)v\\pi}{2N}\\right) \\\\\n",
    "\\text{where } C(t) = \\begin{cases} 1 & \\text{if } t = 0 \\\\ \\sqrt{2} & \\text{otherwise} \\end{cases}$$\n",
    "\n",
    "#### Inverse Transform (for `NxN` block)\n",
    "\n",
    "The formula adapted from the course slides:\n",
    "\n",
    "$$\n",
    "f(x, y) = \\frac{2}{N}\\sum_{u=0}^{N-1}\\sum_{v=0}^{N-1}C(u)C(v)F(u, v)\\cos\\left(\\frac{(2x+1)u\\pi}{2N}\\right)\\cos\\left(\\frac{(2y+1)v\\pi}{2N}\\right) \\\\\n",
    "\\text{where } C(t) = \\begin{cases} \\frac{2}{\\sqrt{N}} & \\text{if } t = 0 \\\\ 2 \\sqrt{\\frac{2}{N}} & \\text{otherwise} \\end{cases}\n",
    "$$\n",
    "\n",
    "can be simplified as:\n",
    "\n",
    "$$\n",
    "f(x, y) = \\frac{8}{N^{2}}\\sum_{u=0}^{N-1}\\sum_{v=0}^{N-1}C(u)C(v)F(u, v)\\cos\\left(\\frac{(2x+1)u\\pi}{2N}\\right)\\cos\\left(\\frac{(2y+1)v\\pi}{2N}\\right) \\\\\n",
    "\\text{where } C(t) = \\begin{cases} 1 & \\text{if } t = 0 \\\\ \\sqrt{2} & \\text{otherwise} \\end{cases}$$"
   ]
  },
  {
   "cell_type": "markdown",
   "metadata": {},
   "source": [
    "Implement the DCT and IDCT functions:"
   ]
  },
  {
   "cell_type": "code",
   "execution_count": 2,
   "metadata": {},
   "outputs": [],
   "source": [
    "from numpy.typing import NDArray\n",
    "from numpy import float64, uint8\n",
    "\n",
    "\n",
    "def dct_forward(source: NDArray[uint8], block_size: int) -> NDArray[float64]:\n",
    "    from numpy import atleast_2d, float64\n",
    "    from math import sqrt, cos, pi\n",
    "\n",
    "    source = atleast_2d(source).astype(float64)\n",
    "    block_size = int(block_size)\n",
    "\n",
    "    N = block_size\n",
    "    C = 8 / N / N\n",
    "    PI_2N = pi / 2 / N\n",
    "    SR_2 = sqrt(2)\n",
    "\n",
    "    target = source.copy()\n",
    "    for i in range(0, target.shape[0] - N + 1, N):\n",
    "        for j in range(0, target.shape[1] - N + 1, N):\n",
    "            for u in range(N):\n",
    "                for v in range(N):\n",
    "                    a = 0.0\n",
    "                    for x in range(N):\n",
    "                        for y in range(N):\n",
    "                            a += (\n",
    "                                source[i + x, j + y]\n",
    "                                * cos((2 * x + 1) * u * PI_2N)\n",
    "                                * cos((2 * y + 1) * v * PI_2N)\n",
    "                            )\n",
    "                    target[i + u, j + v] = (\n",
    "                        C\n",
    "                        * (1 if u == 0 else SR_2)\n",
    "                        * (1 if v == 0 else SR_2)\n",
    "                        * a\n",
    "                    )\n",
    "    return target\n",
    "\n",
    "\n",
    "def dct_inverse(source: NDArray[float64], block_size: int) -> NDArray[uint8]:\n",
    "    from numpy import atleast_2d, float64, uint8\n",
    "    from math import cos, pi, sqrt\n",
    "\n",
    "    source = atleast_2d(source).astype(float64)\n",
    "    block_size = int(block_size)\n",
    "\n",
    "    N = block_size\n",
    "    C = 8 / N / N\n",
    "    PI_2N = pi / 2 / N\n",
    "    SR_2 = sqrt(2)\n",
    "\n",
    "    target = source.copy()\n",
    "    for i in range(0, target.shape[0] - N + 1, N):\n",
    "        for j in range(0, target.shape[1] - N + 1, N):\n",
    "            for x in range(N):\n",
    "                for y in range(N):\n",
    "                    a = 0.0\n",
    "                    for u in range(N):\n",
    "                        for v in range(N):\n",
    "                            a += (\n",
    "                                (1 if u == 0 else SR_2)\n",
    "                                * (1 if v == 0 else SR_2)\n",
    "                                * source[i + u, j + v]\n",
    "                                * cos((2 * x + 1) * u * PI_2N)\n",
    "                                * cos((2 * y + 1) * v * PI_2N)\n",
    "                            )\n",
    "                    target[i + x, j + y] = C * a\n",
    "    target = target.round().clip(max=255).astype(uint8)\n",
    "    return target"
   ]
  },
  {
   "cell_type": "code",
   "execution_count": 3,
   "metadata": {},
   "outputs": [],
   "source": [
    "from numpy import set_printoptions\n",
    "\n",
    "set_printoptions(suppress=True, precision=2)"
   ]
  },
  {
   "cell_type": "markdown",
   "metadata": {},
   "source": [
    "Test the DCT and IDCT functions:"
   ]
  },
  {
   "cell_type": "code",
   "execution_count": 4,
   "metadata": {},
   "outputs": [
    {
     "name": "stdout",
     "output_type": "stream",
     "text": [
      "[[ 859.88  -27.18  187.6    55.58  -79.37  -18.47   58.    -18.67]\n",
      " [ -75.65  -95.07 -100.51  103.21   11.99  -26.68  101.69  -73.74]\n",
      " [-128.37  -38.05   22.04  -29.45   41.5    32.43   35.33  -29.86]\n",
      " [ -42.35  117.38  -75.88 -109.37  -89.67   34.17   19.91  -33.38]\n",
      " [  -3.12  -82.58    6.69   82.54   12.62  -40.79  -96.53  -27.11]\n",
      " [ -47.11  106.36  -54.53   81.44 -113.15  -27.79   -3.86   50.55]\n",
      " [-158.03  -66.13   62.08 -119.2    77.65   46.62   32.46   55.87]\n",
      " [ -31.72  156.53  121.03   64.5    91.36   10.73   45.02  -94.77]\n",
      " [1013.38    9.13 -196.31    0.1   -29.12  -78.27   99.31   44.27]\n",
      " [ -45.71  -55.28  -10.49   41.4  -121.37   -5.73   -3.31  -82.17]\n",
      " [ -16.03    0.13  -72.63  -42.23   42.85   44.51  -17.85 -163.05]\n",
      " [  49.27 -144.38    5.44   98.52   76.11   10.25  -80.17  106.49]\n",
      " [ -71.13  -16.17 -151.68   79.44   29.88  -32.2    -1.98   28.3 ]\n",
      " [  -8.76   20.49   -9.16   90.89  190.76   -2.1    67.34    0.14]\n",
      " [  -7.02  -35.14  -14.85  -21.35  -59.55   27.33  -98.62   33.96]\n",
      " [  17.58  -15.02   12.23 -127.29   88.7    78.92   57.08    8.86]\n",
      " [  99.    205.    117.    226.    108.    204.    184.     45.  ]]\n"
     ]
    }
   ],
   "source": [
    "from numpy.random import randint\n",
    "\n",
    "mat = randint(low=0, high=256, size=(17, 8), dtype=uint8)\n",
    "mat_dct = dct_forward(mat, 8)\n",
    "mat_idct = dct_inverse(mat_dct, 8)\n",
    "\n",
    "print(mat_dct)\n",
    "\n",
    "assert (mat == mat_idct).all()"
   ]
  },
  {
   "cell_type": "markdown",
   "metadata": {},
   "source": [
    "### Quantization\n",
    "\n",
    "#### Forward Transform\n",
    "\n",
    "$$\n",
    "F'(u, v) = \\text{round}\\left(\\frac{F(u, v)}{Q(u, v)}\\right) \\text{ where } Q \\text{ is the quantization matrix}\n",
    "$$\n",
    "\n",
    "#### Inverse Transform\n",
    "\n",
    "$$\n",
    "F(u, v) = F'(u, v) \\cdot Q(u, v) \\text{ where } Q \\text{ is the quantization matrix}\n",
    "$$"
   ]
  },
  {
   "cell_type": "code",
   "execution_count": 5,
   "metadata": {},
   "outputs": [],
   "source": [
    "from numpy.typing import NDArray\n",
    "from numpy import array, float64, int64, uint8\n",
    "from typing import Optional\n",
    "\n",
    "COMMON_QUANTIZATION_MATRIX = array(\n",
    "    [\n",
    "        [16, 11, 10, 16, 24, 40, 51, 61],\n",
    "        [12, 12, 14, 19, 26, 58, 60, 55],\n",
    "        [14, 13, 16, 24, 40, 57, 69, 56],\n",
    "        [14, 17, 22, 29, 51, 87, 80, 62],\n",
    "        [18, 22, 37, 56, 68, 109, 103, 77],\n",
    "        [24, 35, 55, 64, 81, 104, 113, 92],\n",
    "        [49, 64, 78, 87, 103, 121, 120, 101],\n",
    "        [72, 92, 95, 98, 112, 100, 103, 99],\n",
    "    ],\n",
    "    dtype=uint8,\n",
    ")\n",
    "\n",
    "\n",
    "def quantize_forward(\n",
    "    source: NDArray[float64],\n",
    "    matrix: Optional[NDArray[uint8]] = None,\n",
    ") -> NDArray[int64]:\n",
    "    from numpy import atleast_2d, float64, uint8, int64\n",
    "\n",
    "    source = atleast_2d(source).astype(float64)\n",
    "    matrix = (\n",
    "        atleast_2d(matrix).astype(uint8)\n",
    "        if matrix\n",
    "        else COMMON_QUANTIZATION_MATRIX\n",
    "    )\n",
    "\n",
    "    target = source.copy()\n",
    "    for i in range(0, target.shape[0] - matrix.shape[0] + 1, matrix.shape[0]):\n",
    "        for j in range(\n",
    "            0, target.shape[1] - matrix.shape[1] + 1, matrix.shape[1]\n",
    "        ):\n",
    "            target[i : i + matrix.shape[0], j : j + matrix.shape[1]] = (\n",
    "                source[i : i + matrix.shape[0], j : j + matrix.shape[1]]\n",
    "                / matrix\n",
    "            )\n",
    "    target = target.round().astype(int64)\n",
    "    return target\n",
    "\n",
    "\n",
    "def quantize_inverse(\n",
    "    source: NDArray[int64],\n",
    "    matrix: Optional[NDArray[uint8]] = None,\n",
    ") -> NDArray[float64]:\n",
    "    from numpy import atleast_2d, float64, uint8\n",
    "\n",
    "    source = atleast_2d(source).astype(float64)\n",
    "    matrix = (\n",
    "        atleast_2d(matrix).astype(uint8)\n",
    "        if matrix\n",
    "        else COMMON_QUANTIZATION_MATRIX\n",
    "    )\n",
    "\n",
    "    target = source.copy()\n",
    "    for i in range(0, target.shape[0] - matrix.shape[0] + 1, matrix.shape[0]):\n",
    "        for j in range(\n",
    "            0, target.shape[1] - matrix.shape[1] + 1, matrix.shape[1]\n",
    "        ):\n",
    "            target[i : i + matrix.shape[0], j : j + matrix.shape[1]] = (\n",
    "                source[i : i + matrix.shape[0], j : j + matrix.shape[1]]\n",
    "                * matrix\n",
    "            )\n",
    "    return target"
   ]
  },
  {
   "cell_type": "markdown",
   "metadata": {},
   "source": [
    "Test the quantization and inverse quantization functions:"
   ]
  },
  {
   "cell_type": "code",
   "execution_count": 6,
   "metadata": {},
   "outputs": [
    {
     "name": "stdout",
     "output_type": "stream",
     "text": [
      "13.294140104672888\n",
      "[[   5  -11   16   -8    6    0   -2    1]\n",
      " [   0    4    3    4    5    0   -2    0]\n",
      " [   8    0   -5    0   -1    1    2   -2]\n",
      " [  -1   -1   -1   -4   -2   -1    0    0]\n",
      " [   3    4   -1    0    0   -1    0   -2]\n",
      " [   6    4   -1   -2    2    0    0    0]\n",
      " [   0    0    1    0    0    0    1   -2]\n",
      " [  -2    0    0    4    0    1    2    1]\n",
      " [   5   10    7   12    0    0   -1   -1]\n",
      " [ -10    1    2   -5   -1   -1    1    1]\n",
      " [   5    1   -6    0    0    2    0    3]\n",
      " [   4   -4    0    2    0   -2   -1    0]\n",
      " [   5   -4   -1    0   -2    1    0   -1]\n",
      " [  -8    1    1    2    0    0    0   -1]\n",
      " [  -1    3   -1    2    0    0    2   -1]\n",
      " [  -1    0    0    0    0    2   -1   -1]\n",
      " [   9  -52   33   26  -20 -188 -118 -125]]\n"
     ]
    }
   ],
   "source": [
    "from numpy.random import randn\n",
    "from numpy import set_printoptions\n",
    "\n",
    "mat = randn(17, 8) * 100\n",
    "mat_q = quantize_forward(mat)\n",
    "mat_iq = quantize_inverse(mat_q)\n",
    "\n",
    "set_printoptions(suppress=True)\n",
    "\n",
    "print(abs((mat - mat_iq)).mean())\n",
    "print(mat_q)"
   ]
  },
  {
   "cell_type": "markdown",
   "metadata": {},
   "source": [
    "Load the image and apply the DCT and quantization:"
   ]
  },
  {
   "cell_type": "code",
   "execution_count": 7,
   "metadata": {},
   "outputs": [
    {
     "data": {
      "text/markdown": [
       "| Variable Name | Value |\n",
       "|---------------|-------|\n",
       "| source_image  | ![source_image](/Users/yiran/Documents/practice/video-comp-assignment-3/notebooks/images/foreman_qcif_0_rgb.luma.source.bmp) |\n",
       "| target_image  | ![target_image](/Users/yiran/Documents/practice/video-comp-assignment-3/notebooks/images/foreman_qcif_0_rgb.luma.target.bmp) |\n",
       "| fidelity_ssim | `0.9418` |\n",
       "| source_data | `[[ 32 233 251 ... 212 230 203]`<br>` [ 39 212 206 ... 220 226 203]`<br>` [ 37 207 187 ... 191 228 200]`<br>` ...`<br>` [ 14 132 215 ... 176 174 154]`<br>` [ 15 132 215 ... 191 193 178]`<br>` [ 14 131 212 ... 128 127 118]]` |\n",
       "| transformed_data | `[[1531.5  -326.07 -276.39 ...   19.8   -16.01    1.28]`<br>` [  24.96   96.18   11.23 ...   10.26   -6.66    7.32]`<br>` [  74.87  -58.06  -38.65 ...   -9.62   -2.91   -2.16]`<br>` ...`<br>` [  -1.49    1.55    1.83 ...    5.95    8.25    5.29]`<br>` [  -1.68    1.61   -2.55 ...   11.64    0.76    0.98]`<br>` [   2.79   -1.92   -0.82 ...   -0.21   -5.4    -1.23]]` |\n",
       "| quantized_data | `[[ 96 -30 -28 ...   0   0   0]`<br>` [  2   8   1 ...   0   0   0]`<br>` [  5  -4  -2 ...   0   0   0]`<br>` ...`<br>` [  0   0   0 ...   0   0   0]`<br>` [  0   0   0 ...   0   0   0]`<br>` [  0   0   0 ...   0   0   0]]` |\n",
       "| dequantized_data | `[[1536. -330. -280. ...    0.    0.    0.]`<br>` [  24.   96.   14. ...    0.    0.    0.]`<br>` [  70.  -52.  -32. ...    0.    0.    0.]`<br>` ...`<br>` [   0.    0.    0. ...    0.    0.    0.]`<br>` [   0.    0.    0. ...    0.    0.    0.]`<br>` [   0.    0.    0. ...    0.    0.    0.]]` |\n",
       "| target_data | `[[ 22 242 255 ... 222 215 207]`<br>` [ 43 203 202 ... 220 224 204]`<br>` [ 55 200 196 ... 189 219 215]`<br>` ...`<br>` [ 14 133 213 ... 179 169 141]`<br>` [ 13 132 211 ... 188 194 194]`<br>` [ 13 132 211 ... 132 121 114]]` |\n"
      ],
      "text/plain": [
       "<IPython.core.display.Markdown object>"
      ]
     },
     "metadata": {},
     "output_type": "display_data"
    }
   ],
   "source": [
    "from IPython.display import display, Markdown, Image as I\n",
    "from pathlib import Path\n",
    "from PIL import Image\n",
    "from numpy import asarray\n",
    "from skimage.metrics import structural_similarity as ssim\n",
    "\n",
    "source_path = Path(\"../resources/foreman_qcif_0_rgb.bmp\").resolve()\n",
    "source_image = Image.open(source_path).convert(mode=\"L\")\n",
    "source_path = Path(\"images/foreman_qcif_0_rgb.luma.source.bmp\").resolve()\n",
    "source_data = asarray(source_image)\n",
    "transformed_data = dct_forward(source_data, 8)\n",
    "quantized_data = quantize_forward(transformed_data)\n",
    "dequantized_data = quantize_inverse(quantized_data)\n",
    "target_data = dct_inverse(dequantized_data, 8)\n",
    "target_image = Image.fromarray(target_data, mode=\"L\")\n",
    "target_path = Path(\"images/foreman_qcif_0_rgb.luma.target.bmp\").resolve()\n",
    "fidelity_ssim = ssim(source_data, target_data)\n",
    "\n",
    "table_view = f\"\"\"\\\n",
    "| Variable Name | Value |\n",
    "|---------------|-------|\n",
    "| source_image  | ![source_image]({source_path}) |\n",
    "| target_image  | ![target_image]({target_path}) |\n",
    "| fidelity_ssim | `{fidelity_ssim:.4f}` |\n",
    "\"\"\"\n",
    "\n",
    "for var_name in [\n",
    "    \"source_data\",\n",
    "    \"transformed_data\",\n",
    "    \"quantized_data\",\n",
    "    \"dequantized_data\",\n",
    "    \"target_data\",\n",
    "]:\n",
    "    var_value = locals()[var_name]\n",
    "    table_view += (\n",
    "        f\"| {var_name} | `{str(var_value).replace(\"\\n\", \"`<br>`\")}` |\\n\"\n",
    "    )\n",
    "\n",
    "source_image.save(source_path)\n",
    "target_image.save(target_path)\n",
    "display(Markdown(table_view))"
   ]
  },
  {
   "cell_type": "code",
   "execution_count": 10,
   "metadata": {
    "vscode": {
     "languageId": "html"
    }
   },
   "outputs": [
    {
     "data": {
      "text/html": [
       "<style>\n",
       "/* Do not render this cell */\n",
       "@media print {\n",
       "  .jp-Cell.jp-Notebook-cell:last-child {\n",
       "    display: none;\n",
       "  }\n",
       "}\n",
       "\n",
       ":root {\n",
       "  --jp-content-link-color: dodgerblue;\n",
       "}\n",
       "@page {\n",
       "  size: A4 portrait;\n",
       "  margin: 5mm;\n",
       "}\n",
       "@media screen {\n",
       "    body {\n",
       "        margin: 5mm;\n",
       "    }\n",
       "}\n",
       "a code {\n",
       "    color: var(--jp-content-link-color) !important;\n",
       "}\n",
       ".jp-RenderedHTMLCommon {\n",
       "  font-family: Calibri, Verdana, sans-serif !important;\n",
       "  font-size: 13px !important;\n",
       "  font-weight: 400 !important;\n",
       "  line-height: 1.35 !important;\n",
       "}\n",
       "code, pre {\n",
       "    font-family: Monaco, monospace !important;\n",
       "}\n",
       "h1 {\n",
       "    text-align: center !important;\n",
       "}\n",
       "h1, h2, h3, h4, h5, h6, strong {\n",
       "    font-weight: 700 !important;\n",
       "}\n",
       "h2 {\n",
       "  page-break-before: always;\n",
       "}\n",
       "pre {\n",
       "  white-space: pre-wrap;\n",
       "}\n",
       "table, td, th, tr, tbody, thead, tfoot {\n",
       "  page-break-inside: avoid !important;\n",
       "}\n",
       ".jp-RenderedHTMLCommon td,\n",
       ".jp-RenderedHTMLCommon th,\n",
       ".jp-RenderedHTMLCommon tr {\n",
       "  border: 1px solid var(--md-grey-500);\n",
       "}\n",
       ".jp-RenderedHTMLCommon table {\n",
       "  margin-left: 2em;\n",
       "}\n",
       ".jp-CodeCell {\n",
       "    margin-bottom: 1.5em;\n",
       "}\n",
       "</style>\n"
      ],
      "text/plain": [
       "<IPython.core.display.HTML object>"
      ]
     },
     "metadata": {},
     "output_type": "display_data"
    }
   ],
   "source": [
    "%%html\n",
    "<style>\n",
    "/* Do not render this cell */\n",
    "@media print {\n",
    "  .jp-Cell.jp-Notebook-cell:last-child {\n",
    "    display: none;\n",
    "  }\n",
    "}\n",
    "\n",
    ":root {\n",
    "  --jp-content-link-color: dodgerblue;\n",
    "}\n",
    "@page {\n",
    "  size: A4 portrait;\n",
    "  margin: 5mm;\n",
    "}\n",
    "@media screen {\n",
    "    body {\n",
    "        margin: 5mm;\n",
    "    }\n",
    "}\n",
    "a code {\n",
    "    color: var(--jp-content-link-color) !important;\n",
    "}\n",
    ".jp-RenderedHTMLCommon {\n",
    "  font-family: Calibri, Verdana, sans-serif !important;\n",
    "  font-size: 13px !important;\n",
    "  font-weight: 400 !important;\n",
    "  line-height: 1.35 !important;\n",
    "}\n",
    "code, pre {\n",
    "    font-family: Monaco, monospace !important;\n",
    "}\n",
    "h1 {\n",
    "    text-align: center !important;\n",
    "}\n",
    "h1, h2, h3, h4, h5, h6, strong {\n",
    "    font-weight: 700 !important;\n",
    "}\n",
    "h2 {\n",
    "  page-break-before: always;\n",
    "}\n",
    "pre {\n",
    "  white-space: pre-wrap;\n",
    "}\n",
    "table, td, th, tr, tbody, thead, tfoot {\n",
    "  page-break-inside: avoid !important;\n",
    "}\n",
    ".jp-RenderedHTMLCommon td,\n",
    ".jp-RenderedHTMLCommon th,\n",
    ".jp-RenderedHTMLCommon tr {\n",
    "  border: 1px solid var(--md-grey-500);\n",
    "}\n",
    ".jp-RenderedHTMLCommon table {\n",
    "  margin-left: 2em;\n",
    "}\n",
    ".jp-CodeCell {\n",
    "    margin-bottom: 1.5em;\n",
    "}\n",
    "</style>"
   ]
  }
 ],
 "metadata": {
  "kernelspec": {
   "display_name": ".venv",
   "language": "python",
   "name": "python3"
  },
  "language_info": {
   "codemirror_mode": {
    "name": "ipython",
    "version": 3
   },
   "file_extension": ".py",
   "mimetype": "text/x-python",
   "name": "python",
   "nbconvert_exporter": "python",
   "pygments_lexer": "ipython3",
   "version": "3.12.2"
  }
 },
 "nbformat": 4,
 "nbformat_minor": 2
}
