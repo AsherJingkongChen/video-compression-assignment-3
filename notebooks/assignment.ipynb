{
 "cells": [
  {
   "cell_type": "markdown",
   "metadata": {},
   "source": [
    "# Video Compression Assignment 3"
   ]
  },
  {
   "cell_type": "markdown",
   "metadata": {},
   "source": [
    "In this assignment, we will use the block-based encoding approach, where the size of a block is 8x8. Only the Luma component is considered for the following questions."
   ]
  },
  {
   "cell_type": "markdown",
   "metadata": {},
   "source": [
    "### Prerequisites\n",
    "\n",
    "- Programming langauge: Python 3.10+ (IPython)\n",
    "- Framework: Jupyter"
   ]
  },
  {
   "cell_type": "markdown",
   "metadata": {},
   "source": [
    "Install dependencies from PyPI:"
   ]
  },
  {
   "cell_type": "code",
   "execution_count": 1,
   "metadata": {},
   "outputs": [
    {
     "name": "stdout",
     "output_type": "stream",
     "text": [
      "Note: you may need to restart the kernel to use updated packages.\n"
     ]
    }
   ],
   "source": [
    "%pip install \\\n",
    "    --disable-pip-version-check \\\n",
    "    --quiet \\\n",
    "    numpy \\\n",
    "    Pillow \\\n",
    "    scikit-image"
   ]
  },
  {
   "cell_type": "markdown",
   "metadata": {},
   "source": [
    "## Task 1\n",
    "\n",
    "> Fourier Transform\n",
    "\n",
    "Please apply the Fourier Transform to the luma component of `foreman_qcif_0_rgb.bmp` and demonstrate its magnitudes in a 2-D image, as shown in the example below. Note that you need to shift the origin to the center of the image for the magnitude plot.\n",
    "\n",
    "<div style=\"text-align: center;\">\n",
    "    <img alt=\"Image 1\" src=\"https://raw.githubusercontent.com/AsherJingkongChen/video-compression-assignment-3/main/notebooks/images/1.png\" width=\"50%\">\n",
    "</div>"
   ]
  },
  {
   "cell_type": "markdown",
   "metadata": {},
   "source": [
    "## Solution of Task 1"
   ]
  },
  {
   "cell_type": "markdown",
   "metadata": {},
   "source": [
    "### 2D Discrete Fourier Transform\n",
    "\n",
    "#### Forward Transform\n",
    "\n",
    "The formula adapted from the course slides is as follows:\n",
    "\n",
    "$$\n",
    "F(u, v) = \\frac{1}{MN} \\sum_{x=0}^{M-1} \\sum_{y=0}^{N-1} f(x, y) e^{-i2\\pi \\left( \\frac{ux}{M} + \\frac{vy}{N} \\right)} \\\\\n",
    "\\text{where } u = 0, 1, ..., M - 1 \\text{ and } v = 0, 1, ..., N - 1\n",
    "$$\n",
    "\n",
    "#### Origin Shift\n",
    "\n",
    "Move all the pixels horizontally and vertically by half of the image width and height, respectively:\n",
    "\n",
    "$$\n",
    "F'(u, v) = F((u + \\lfloor{M / 2}\\rfloor) \\bmod{M}, (v + \\lfloor{N / 2}\\rfloor) \\bmod{N}) \\\\\n",
    "\\text{where } u = 0, 1, ..., M - 1 \\text{ and } v = 0, 1, ..., N - 1\n",
    "$$\n",
    "\n",
    "#### Reduced Magnitude\n",
    "\n",
    "The reduced magnitude of the Fourier Transform is calculated as follows:\n",
    "\n",
    "$$\n",
    "G(u, v) = \\log(1 + |F'(u, v)|) \\\\\n",
    "\\text{where } u = 0, 1, ..., M - 1 \\text{ and } v = 0, 1, ..., N - 1\n",
    "$$\n",
    "\n",
    "### Normalization\n",
    "\n",
    "The magnitude values are normalized to the range `[0, 255]` using the following formula:\n",
    "\n",
    "$$\n",
    "G'(u, v) = 0 + 255 \\times \\frac{G(u, v) - \\min(G)}{\\max(G) - \\min(G)} \\\\\n",
    "\\text{where } u = 0, 1, ..., M - 1 \\text{ and } v = 0, 1, ..., N - 1\n",
    "$$"
   ]
  },
  {
   "cell_type": "markdown",
   "metadata": {},
   "source": [
    "Implement the above steps in the following code:"
   ]
  },
  {
   "cell_type": "code",
   "execution_count": 2,
   "metadata": {},
   "outputs": [],
   "source": [
    "from numpy.typing import NDArray\n",
    "from numpy import complex128, float64, uint8\n",
    "\n",
    "\n",
    "def dft_forward(source: NDArray[uint8]) -> NDArray[complex128]:\n",
    "    from numpy import arange, atleast_2d, exp, meshgrid, pi, uint8\n",
    "\n",
    "    source = atleast_2d(source).astype(uint8)\n",
    "\n",
    "    M = source.shape[0]\n",
    "    N = source.shape[1]\n",
    "    C = 1 / M / N\n",
    "    NEG_I2PI = -2j * pi\n",
    "    X, Y = meshgrid(arange(M), arange(N), indexing=\"ij\")\n",
    "    X_M = X / M\n",
    "    Y_N = Y / N\n",
    "\n",
    "    target = source.copy().astype(complex128)\n",
    "    for u in range(M):\n",
    "        for v in range(N):\n",
    "            target[u, v] = (\n",
    "                C * (source * exp(NEG_I2PI * u * X_M + NEG_I2PI * v * Y_N)).sum()\n",
    "            )\n",
    "    return target\n",
    "\n",
    "\n",
    "def planar_shift(source: NDArray) -> NDArray:\n",
    "    from numpy import atleast_2d, roll\n",
    "\n",
    "    source = atleast_2d(source)\n",
    "\n",
    "    M = source.shape[0]\n",
    "    N = source.shape[1]\n",
    "    M_2 = M // 2\n",
    "    N_2 = N // 2\n",
    "\n",
    "    target = roll(source, shift=(M_2, N_2), axis=(0, 1))\n",
    "    return target\n",
    "\n",
    "\n",
    "def log_scale(source: NDArray[complex128]) -> NDArray[float64]:\n",
    "    from numpy import asarray, complex128, log1p\n",
    "\n",
    "    source = asarray(source).astype(complex128)\n",
    "\n",
    "    target = log1p(abs(source))\n",
    "    return target\n",
    "\n",
    "\n",
    "def norm_scale(source: NDArray[float64]) -> NDArray[uint8]:\n",
    "    from numpy import asarray, float64\n",
    "\n",
    "    source = asarray(source).astype(float64)\n",
    "\n",
    "    scaling = 255 / (source.max() - source.min())\n",
    "    target = (scaling * (source - source.min())).round().astype(uint8)\n",
    "    return target"
   ]
  },
  {
   "cell_type": "markdown",
   "metadata": {},
   "source": [
    "Load the image, apply the Fourier Transform to the luma component, and demonstrate its magnitudes in a 2-D image:"
   ]
  },
  {
   "cell_type": "code",
   "execution_count": 3,
   "metadata": {},
   "outputs": [
    {
     "data": {
      "text/markdown": [
       "| Variable Name | Value |\n",
       "|---------------|-------|\n",
       "| source_image  | ![source_image](/Users/yiran/Documents/practice/video-comp-assignment-3/notebooks/images/foreman_qcif_0_rgb.luma.source.bmp) |\n",
       "| target_image  | ![target_image](/Users/yiran/Documents/practice/video-comp-assignment-3/notebooks/images/foreman_qcif_0_rgb.luma.target.1.bmp) |\n",
       "| source_data | `[[ 32 233 ... 230 203]`<br>` [ 39 212 ... 226 203]`<br>` ...`<br>` [ 15 132 ... 193 178]`<br>` [ 14 131 ... 127 118]]` |\n",
       "| transformed_data | `[[169.22 +0.j     9.8  -7.31j ...   1.95 +4.58j   9.8  +7.31j]`<br>` [  5.46-19.69j  -3.25 -0.39j ...  -3.68 +6.36j  -9.16+11.63j]`<br>` ...`<br>` [ -4.03 +9.06j  -1.66 -1.36j ...   0.62 +3.52j   9.53 -6.11j]`<br>` [  5.46+19.69j  -9.16-11.63j ...   4.06 +0.47j  -3.25 +0.39j]]` |\n",
       "| shifted_data | `[[-0.  -0.j -0.  -0.j ... -0.  -0.j -0.  +0.j]`<br>` [-0.  -0.j -0.  +0.j ... -0.  -0.j -0.  -0.j]`<br>` ...`<br>` [-0.  +0.j -0.  +0.j ... -0.  -0.j -0.01-0.j]`<br>` [-0.  +0.j -0.  +0.j ... -0.  -0.j -0.  -0.j]]` |\n",
       "| target_data | `[[0 0 ... 0 0]`<br>` [0 0 ... 0 0]`<br>` ...`<br>` [0 0 ... 0 0]`<br>` [0 0 ... 0 0]]` |\n"
      ],
      "text/plain": [
       "<IPython.core.display.Markdown object>"
      ]
     },
     "metadata": {},
     "output_type": "display_data"
    }
   ],
   "source": [
    "from IPython.display import display, Markdown\n",
    "from pathlib import Path\n",
    "from PIL import Image\n",
    "from numpy import asarray, set_printoptions\n",
    "\n",
    "source_path = Path(\"../resources/foreman_qcif_0_rgb.bmp\").resolve()\n",
    "source_image = Image.open(source_path).convert(mode=\"L\")\n",
    "source_path = Path(\"images/foreman_qcif_0_rgb.luma.source.bmp\").resolve()\n",
    "source_data = asarray(source_image)\n",
    "transformed_data = dft_forward(source_data)\n",
    "shifted_data = planar_shift(transformed_data)\n",
    "target_data = norm_scale(log_scale(shifted_data))\n",
    "target_image = Image.fromarray(target_data, mode=\"L\")\n",
    "target_path = Path(\"images/foreman_qcif_0_rgb.luma.target.1.bmp\").resolve()\n",
    "\n",
    "table_view = f\"\"\"\\\n",
    "| Variable Name | Value |\n",
    "|---------------|-------|\n",
    "| source_image  | ![source_image]({source_path}) |\n",
    "| target_image  | ![target_image]({target_path}) |\n",
    "\"\"\"\n",
    "\n",
    "set_printoptions(edgeitems=2, precision=2, suppress=True)\n",
    "\n",
    "for var_name in [\n",
    "    \"source_data\",\n",
    "    \"transformed_data\",\n",
    "    \"shifted_data\",\n",
    "    \"target_data\",\n",
    "]:\n",
    "    var_value = locals()[var_name]\n",
    "    table_view += (\n",
    "        f\"| {var_name} | `{str(var_value).replace(\"\\n\", \"`<br>`\")}` |\\n\"\n",
    "    )\n",
    "\n",
    "source_image.save(source_path)\n",
    "target_image.save(target_path)\n",
    "display(Markdown(table_view))"
   ]
  },
  {
   "cell_type": "markdown",
   "metadata": {},
   "source": [
    "## Task 2\n",
    "\n",
    "> DCT\n",
    "\n",
    "Please apply DCT to all the 8x8 luma blocks of `foreman_qcif_0_rgb.bmp` and use the quantization matrix below for quantization. After DCT and quantization, please apply inverse quantization and IDCT to decode all the blocks and show the decoded frame.\n",
    "\n",
    "$$\n",
    "\\begin{bmatrix}\n",
    "16 & 11 & 10 & 16 & 24 & 40 & 51 & 61 \\\\\n",
    "12 & 12 & 14 & 19 & 26 & 58 & 60 & 55 \\\\\n",
    "14 & 13 & 16 & 24 & 40 & 57 & 69 & 56 \\\\\n",
    "14 & 17 & 22 & 29 & 51 & 87 & 80 & 62 \\\\\n",
    "18 & 22 & 37 & 56 & 68 & 109 & 103 & 77 \\\\\n",
    "24 & 35 & 55 & 64 & 81 & 104 & 113 & 92 \\\\\n",
    "49 & 64 & 78 & 87 & 103 & 121 & 120 & 101 \\\\\n",
    "72 & 92 & 95 & 98 & 112 & 100 & 103 & 99 \\\\\n",
    "\\end{bmatrix}\n",
    "$$"
   ]
  },
  {
   "cell_type": "markdown",
   "metadata": {},
   "source": [
    "## Solution of Task 2"
   ]
  },
  {
   "cell_type": "markdown",
   "metadata": {},
   "source": [
    "### 2-D Discrete Cosine Transform\n",
    "\n",
    "#### Forward Transform (for `NxN` block)\n",
    "\n",
    "The formula adapted from the course slides:\n",
    "\n",
    "$$\n",
    "F(u, v) = \\frac{2}{N}C(u)C(v)\\sum_{x=0}^{N-1}\\sum_{y=0}^{N-1}f(x, y)\\cos\\left(\\frac{(2x+1)u\\pi}{2N}\\right)\\cos\\left(\\frac{(2y+1)v\\pi}{2N}\\right) \\\\\n",
    "\\text{where } C(t) = \\begin{cases} \\frac{2}{\\sqrt{N}} & \\text{if } t = 0 \\\\ 2 \\sqrt{\\frac{2}{N}} & \\text{otherwise} \\end{cases} \\ \\text{and } u, v = 0, 1, ..., N - 1\n",
    "$$\n",
    "\n",
    "can be simplified as:\n",
    "\n",
    "$$\n",
    "F(u, v) = \\frac{8}{N^{2}}C(u)C(v)\\sum_{x=0}^{N-1}\\sum_{y=0}^{N-1}f(x, y)\\cos\\left(\\frac{(2x+1)u\\pi}{2N}\\right)\\cos\\left(\\frac{(2y+1)v\\pi}{2N}\\right) \\\\\n",
    "\\text{where } C(t) = \\begin{cases} 1 & \\text{if } t = 0 \\\\ \\sqrt{2} & \\text{otherwise} \\end{cases} \\ \\text{and } u, v = 0, 1, ..., N - 1\n",
    "$$\n",
    "\n",
    "#### Inverse Transform (for `NxN` block)\n",
    "\n",
    "The formula adapted from the course slides:\n",
    "\n",
    "$$\n",
    "f(x, y) = \\frac{2}{N}\\sum_{u=0}^{N-1}\\sum_{v=0}^{N-1}C(u)C(v)F(u, v)\\cos\\left(\\frac{(2x+1)u\\pi}{2N}\\right)\\cos\\left(\\frac{(2y+1)v\\pi}{2N}\\right) \\\\\n",
    "\\text{where } C(t) = \\begin{cases} \\frac{2}{\\sqrt{N}} & \\text{if } t = 0 \\\\ 2 \\sqrt{\\frac{2}{N}} & \\text{otherwise} \\end{cases} \\ \\text{and } u, v = 0, 1, ..., N - 1\n",
    "$$\n",
    "\n",
    "can be simplified as:\n",
    "\n",
    "$$\n",
    "f(x, y) = \\frac{8}{N^{2}}\\sum_{u=0}^{N-1}\\sum_{v=0}^{N-1}C(u)C(v)F(u, v)\\cos\\left(\\frac{(2x+1)u\\pi}{2N}\\right)\\cos\\left(\\frac{(2y+1)v\\pi}{2N}\\right) \\\\\n",
    "\\text{where } C(t) = \\begin{cases} 1 & \\text{if } t = 0 \\\\ \\sqrt{2} & \\text{otherwise} \\end{cases} \\ \\text{and } u, v = 0, 1, ..., N - 1\n",
    "$$"
   ]
  },
  {
   "cell_type": "markdown",
   "metadata": {},
   "source": [
    "Implement the DCT and IDCT functions:"
   ]
  },
  {
   "cell_type": "code",
   "execution_count": 4,
   "metadata": {},
   "outputs": [],
   "source": [
    "from numpy.typing import NDArray\n",
    "from numpy import float64, uint8\n",
    "\n",
    "\n",
    "def dct_forward(source: NDArray[uint8], block_size: int) -> NDArray[float64]:\n",
    "    from numpy import atleast_2d, float64, uint8\n",
    "    from math import cos, pi\n",
    "\n",
    "    source = atleast_2d(source).astype(uint8)\n",
    "    block_size = int(block_size)\n",
    "\n",
    "    N = block_size\n",
    "    C = 8 / N / N\n",
    "    PI_2N = pi / 2 / N\n",
    "    SR_2 = 2 ** 0.5\n",
    "\n",
    "    target = source.copy().astype(float64)\n",
    "    for i in range(0, target.shape[0] - N + 1, N):\n",
    "        for j in range(0, target.shape[1] - N + 1, N):\n",
    "            for u in range(N):\n",
    "                for v in range(N):\n",
    "                    a = 0.0\n",
    "                    for x in range(N):\n",
    "                        for y in range(N):\n",
    "                            a += (\n",
    "                                source[i + x, j + y]\n",
    "                                * cos((2 * x + 1) * u * PI_2N)\n",
    "                                * cos((2 * y + 1) * v * PI_2N)\n",
    "                            )\n",
    "                    target[i + u, j + v] = (\n",
    "                        C\n",
    "                        * (1 if u == 0 else SR_2)\n",
    "                        * (1 if v == 0 else SR_2)\n",
    "                        * a\n",
    "                    )\n",
    "    return target\n",
    "\n",
    "\n",
    "def dct_inverse(source: NDArray[float64], block_size: int) -> NDArray[uint8]:\n",
    "    from numpy import atleast_2d, float64, uint8\n",
    "    from math import cos, pi\n",
    "\n",
    "    source = atleast_2d(source).astype(float64)\n",
    "    block_size = int(block_size)\n",
    "\n",
    "    N = block_size\n",
    "    C = 8 / N / N\n",
    "    PI_2N = pi / 2 / N\n",
    "    SR_2 = 2 ** 0.5\n",
    "\n",
    "    target = source.copy().astype(uint8)\n",
    "    for i in range(0, target.shape[0] - N + 1, N):\n",
    "        for j in range(0, target.shape[1] - N + 1, N):\n",
    "            for x in range(N):\n",
    "                for y in range(N):\n",
    "                    a = 0.0\n",
    "                    for u in range(N):\n",
    "                        for v in range(N):\n",
    "                            a += (\n",
    "                                (1 if u == 0 else SR_2)\n",
    "                                * (1 if v == 0 else SR_2)\n",
    "                                * source[i + u, j + v]\n",
    "                                * cos((2 * x + 1) * u * PI_2N)\n",
    "                                * cos((2 * y + 1) * v * PI_2N)\n",
    "                            )\n",
    "                    target[i + x, j + y] = round(min(C * a, 255))\n",
    "    return target"
   ]
  },
  {
   "cell_type": "markdown",
   "metadata": {},
   "source": [
    "Test the DCT and IDCT functions:"
   ]
  },
  {
   "cell_type": "code",
   "execution_count": 5,
   "metadata": {},
   "outputs": [
    {
     "name": "stdout",
     "output_type": "stream",
     "text": [
      "[[ 998.62 -101.47  -73.      9.92  -45.37  103.65   61.22   53.05]\n",
      " [-123.6    32.45   49.03  -27.76    4.69 -110.83   36.63  -45.25]\n",
      " [-111.9    11.71   94.41   40.94  -76.9     3.15  -82.69   58.89]\n",
      " [-116.17 -160.62   74.87  -89.07  -58.19   35.51  -15.16  -74.8 ]\n",
      " [ 118.62  -84.47   24.69  -41.98   -5.38  -10.03  115.47   37.76]\n",
      " [   2.6   -51.38   13.38   -8.19  -12.99  -90.97   35.45 -108.76]\n",
      " [  69.22   90.81  -23.19   -8.55   84.48   89.35   14.34  -42.14]\n",
      " [ -38.05  -81.45  -38.25   36.47   78.4   -92.07  -25.09  -24.4 ]]\n"
     ]
    }
   ],
   "source": [
    "from numpy.random import randint\n",
    "\n",
    "mat = randint(low=0, high=256, size=(8, 8), dtype=uint8)\n",
    "mat_dct = dct_forward(mat, 8)\n",
    "mat_idct = dct_inverse(mat_dct, 8)\n",
    "\n",
    "print(mat_dct)\n",
    "\n",
    "assert (mat == mat_idct).all()"
   ]
  },
  {
   "cell_type": "markdown",
   "metadata": {},
   "source": [
    "### Quantization\n",
    "\n",
    "#### Forward Transform\n",
    "\n",
    "$$\n",
    "F'(u, v) = \\text{round}\\left(\\frac{F(u, v)}{Q(u, v)}\\right) \\text{ where } Q \\text{ is the quantization matrix}\n",
    "$$\n",
    "\n",
    "#### Inverse Transform\n",
    "\n",
    "$$\n",
    "F(u, v) = F'(u, v) \\cdot Q(u, v) \\text{ where } Q \\text{ is the quantization matrix}\n",
    "$$"
   ]
  },
  {
   "cell_type": "code",
   "execution_count": 6,
   "metadata": {},
   "outputs": [],
   "source": [
    "from numpy.typing import NDArray\n",
    "from numpy import array, float64, int64, uint8\n",
    "from typing import Optional\n",
    "\n",
    "COMMON_QUANTIZATION_MATRIX = array(\n",
    "    [\n",
    "        [16, 11, 10, 16, 24, 40, 51, 61],\n",
    "        [12, 12, 14, 19, 26, 58, 60, 55],\n",
    "        [14, 13, 16, 24, 40, 57, 69, 56],\n",
    "        [14, 17, 22, 29, 51, 87, 80, 62],\n",
    "        [18, 22, 37, 56, 68, 109, 103, 77],\n",
    "        [24, 35, 55, 64, 81, 104, 113, 92],\n",
    "        [49, 64, 78, 87, 103, 121, 120, 101],\n",
    "        [72, 92, 95, 98, 112, 100, 103, 99],\n",
    "    ],\n",
    "    dtype=uint8,\n",
    ")\n",
    "\n",
    "\n",
    "def quantize_forward(\n",
    "    source: NDArray[float64],\n",
    "    matrix: Optional[NDArray[uint8]] = None,\n",
    ") -> NDArray[int64]:\n",
    "    from numpy import atleast_2d, float64, int64, uint8\n",
    "\n",
    "    source = atleast_2d(source).astype(float64)\n",
    "    matrix = (\n",
    "        atleast_2d(matrix).astype(uint8)\n",
    "        if matrix\n",
    "        else COMMON_QUANTIZATION_MATRIX\n",
    "    )\n",
    "\n",
    "    target = source.copy().astype(int64)\n",
    "    for i in range(0, target.shape[0] - matrix.shape[0] + 1, matrix.shape[0]):\n",
    "        for j in range(\n",
    "            0, target.shape[1] - matrix.shape[1] + 1, matrix.shape[1]\n",
    "        ):\n",
    "            target[i : i + matrix.shape[0], j : j + matrix.shape[1]] = (\n",
    "                source[i : i + matrix.shape[0], j : j + matrix.shape[1]]\n",
    "                / matrix\n",
    "            ).round()\n",
    "    return target\n",
    "\n",
    "\n",
    "def quantize_inverse(\n",
    "    source: NDArray[int64],\n",
    "    matrix: Optional[NDArray[uint8]] = None,\n",
    ") -> NDArray[float64]:\n",
    "    from numpy import atleast_2d, float64, int64, uint8\n",
    "\n",
    "    source = atleast_2d(source).astype(int64)\n",
    "    matrix = (\n",
    "        atleast_2d(matrix).astype(uint8)\n",
    "        if matrix\n",
    "        else COMMON_QUANTIZATION_MATRIX\n",
    "    )\n",
    "\n",
    "    target = source.copy().astype(float64)\n",
    "    for i in range(0, target.shape[0] - matrix.shape[0] + 1, matrix.shape[0]):\n",
    "        for j in range(\n",
    "            0, target.shape[1] - matrix.shape[1] + 1, matrix.shape[1]\n",
    "        ):\n",
    "            target[i : i + matrix.shape[0], j : j + matrix.shape[1]] = (\n",
    "                source[i : i + matrix.shape[0], j : j + matrix.shape[1]]\n",
    "                * matrix\n",
    "            )\n",
    "    return target"
   ]
  },
  {
   "cell_type": "markdown",
   "metadata": {},
   "source": [
    "Test the quantization and inverse quantization functions:"
   ]
  },
  {
   "cell_type": "code",
   "execution_count": 7,
   "metadata": {},
   "outputs": [
    {
     "name": "stdout",
     "output_type": "stream",
     "text": [
      "12.949407959340158\n",
      "[[ 12   4 -17  -2   4  -1   3   1]\n",
      " [ -5  -2  -3  -1  -4  -2   0  -1]\n",
      " [ -3  -4   0   7   0   0   1   2]\n",
      " [  1  -4   2   5  -4   0   1   1]\n",
      " [  5   6   4   0  -2   1  -1   1]\n",
      " [ -1  -4   1   1   0   1   0   1]\n",
      " [  3   1  -2   0   1   1   1   1]\n",
      " [  1   0   0   0   1   0  -1   0]\n",
      " [  0   8  -9  13   0   1  -1  -1]\n",
      " [ -5 -11  10  -3   1  -2  -1   3]\n",
      " [  2   1  14  -2  -2  -2   1   2]\n",
      " [ 10   6  -1   0   1   0   0  -6]\n",
      " [  2   1   3   2   2   0   0   1]\n",
      " [ -1   0   1   3  -2   1   0   0]\n",
      " [  2   0  -1  -1   0   0   2   0]\n",
      " [  0  -1   2  -2   0   1  -1   1]\n",
      " [ 20  20 -24 183  67 193 -60 -19]]\n"
     ]
    }
   ],
   "source": [
    "from numpy.random import randn\n",
    "from numpy import set_printoptions\n",
    "\n",
    "mat = randn(17, 8) * 100\n",
    "mat_q = quantize_forward(mat)\n",
    "mat_iq = quantize_inverse(mat_q)\n",
    "\n",
    "set_printoptions(suppress=True)\n",
    "\n",
    "print(abs((mat - mat_iq)).mean())\n",
    "print(mat_q)"
   ]
  },
  {
   "cell_type": "markdown",
   "metadata": {},
   "source": [
    "Load the image and apply the DCT, quantization, inverse quantization, and IDCT functions to all the 8x8 blocks:"
   ]
  },
  {
   "cell_type": "code",
   "execution_count": 8,
   "metadata": {},
   "outputs": [
    {
     "data": {
      "text/markdown": [
       "| Variable Name | Value |\n",
       "|---------------|-------|\n",
       "| source_image  | ![source_image](/Users/yiran/Documents/practice/video-comp-assignment-3/notebooks/images/foreman_qcif_0_rgb.luma.source.bmp) |\n",
       "| target_image  | ![target_image](/Users/yiran/Documents/practice/video-comp-assignment-3/notebooks/images/foreman_qcif_0_rgb.luma.target.2.bmp) |\n",
       "| fidelity_ssim | `0.9418` |\n",
       "| source_data | `[[ 32 233 ... 230 203]`<br>` [ 39 212 ... 226 203]`<br>` ...`<br>` [ 15 132 ... 193 178]`<br>` [ 14 131 ... 127 118]]` |\n",
       "| transformed_data | `[[1531.5  -326.07 ...  -16.01    1.28]`<br>` [  24.96   96.18 ...   -6.66    7.32]`<br>` ...`<br>` [  -1.68    1.61 ...    0.76    0.98]`<br>` [   2.79   -1.92 ...   -5.4    -1.23]]` |\n",
       "| quantized_data | `[[ 96 -30 ...   0   0]`<br>` [  2   8 ...   0   0]`<br>` ...`<br>` [  0   0 ...   0   0]`<br>` [  0   0 ...   0   0]]` |\n",
       "| dequantized_data | `[[1536. -330. ...    0.    0.]`<br>` [  24.   96. ...    0.    0.]`<br>` ...`<br>` [   0.    0. ...    0.    0.]`<br>` [   0.    0. ...    0.    0.]]` |\n",
       "| target_data | `[[ 22 242 ... 215 207]`<br>` [ 43 203 ... 224 204]`<br>` ...`<br>` [ 13 132 ... 194 194]`<br>` [ 13 132 ... 121 114]]` |\n"
      ],
      "text/plain": [
       "<IPython.core.display.Markdown object>"
      ]
     },
     "metadata": {},
     "output_type": "display_data"
    }
   ],
   "source": [
    "from IPython.display import display, Markdown\n",
    "from pathlib import Path\n",
    "from PIL import Image\n",
    "from numpy import asarray\n",
    "from skimage.metrics import structural_similarity as ssim\n",
    "\n",
    "source_path = Path(\"../resources/foreman_qcif_0_rgb.bmp\").resolve()\n",
    "source_image = Image.open(source_path).convert(mode=\"L\")\n",
    "source_path = Path(\"images/foreman_qcif_0_rgb.luma.source.bmp\").resolve()\n",
    "source_data = asarray(source_image)\n",
    "transformed_data = dct_forward(source_data, 8)\n",
    "quantized_data = quantize_forward(transformed_data)\n",
    "dequantized_data = quantize_inverse(quantized_data)\n",
    "target_data = dct_inverse(dequantized_data, 8)\n",
    "target_image = Image.fromarray(target_data, mode=\"L\")\n",
    "target_path = Path(\"images/foreman_qcif_0_rgb.luma.target.2.bmp\").resolve()\n",
    "fidelity_ssim = ssim(source_data, target_data)\n",
    "\n",
    "table_view = f\"\"\"\\\n",
    "| Variable Name | Value |\n",
    "|---------------|-------|\n",
    "| source_image  | ![source_image]({source_path}) |\n",
    "| target_image  | ![target_image]({target_path}) |\n",
    "| fidelity_ssim | `{fidelity_ssim:.4f}` |\n",
    "\"\"\"\n",
    "\n",
    "for var_name in [\n",
    "    \"source_data\",\n",
    "    \"transformed_data\",\n",
    "    \"quantized_data\",\n",
    "    \"dequantized_data\",\n",
    "    \"target_data\",\n",
    "]:\n",
    "    var_value = locals()[var_name]\n",
    "    table_view += (\n",
    "        f\"| {var_name} | `{str(var_value).replace(\"\\n\", \"`<br>`\")}` |\\n\"\n",
    "    )\n",
    "\n",
    "source_image.save(source_path)\n",
    "target_image.save(target_path)\n",
    "display(Markdown(table_view))"
   ]
  },
  {
   "cell_type": "code",
   "execution_count": 9,
   "metadata": {
    "vscode": {
     "languageId": "html"
    }
   },
   "outputs": [
    {
     "data": {
      "text/html": [
       "<style>\n",
       "/* Do not render this cell */\n",
       "@media print {\n",
       "  .jp-Cell.jp-Notebook-cell:last-child {\n",
       "    display: none;\n",
       "  }\n",
       "}\n",
       "\n",
       ":root {\n",
       "  --jp-content-link-color: dodgerblue;\n",
       "}\n",
       "@page {\n",
       "  size: A4 portrait;\n",
       "  margin: 5mm;\n",
       "}\n",
       "@media screen {\n",
       "    body {\n",
       "        margin: 5mm;\n",
       "    }\n",
       "}\n",
       "a code {\n",
       "    color: var(--jp-content-link-color) !important;\n",
       "}\n",
       ".jp-RenderedHTMLCommon {\n",
       "  font-family: Calibri, Verdana, sans-serif !important;\n",
       "  font-size: 13px !important;\n",
       "  font-weight: 400 !important;\n",
       "  line-height: 1.35 !important;\n",
       "}\n",
       "code, pre {\n",
       "    font-family: Monaco, monospace !important;\n",
       "}\n",
       "h1 {\n",
       "    text-align: center !important;\n",
       "}\n",
       "h1, h2, h3, h4, h5, h6, strong {\n",
       "    font-weight: 700 !important;\n",
       "}\n",
       "h2 {\n",
       "  page-break-before: always;\n",
       "}\n",
       "pre {\n",
       "  white-space: pre-wrap;\n",
       "}\n",
       "table, td, th, tr, tbody, thead, tfoot {\n",
       "  page-break-inside: avoid !important;\n",
       "}\n",
       ".jp-RenderedHTMLCommon td,\n",
       ".jp-RenderedHTMLCommon th,\n",
       ".jp-RenderedHTMLCommon tr {\n",
       "  border: 1px solid var(--md-grey-500);\n",
       "}\n",
       ".jp-RenderedHTMLCommon table {\n",
       "  margin-left: 2em;\n",
       "}\n",
       ".jp-CodeCell {\n",
       "    margin-bottom: 1.5em;\n",
       "}\n",
       "</style>\n"
      ],
      "text/plain": [
       "<IPython.core.display.HTML object>"
      ]
     },
     "metadata": {},
     "output_type": "display_data"
    }
   ],
   "source": [
    "%%html\n",
    "<style>\n",
    "/* Do not render this cell */\n",
    "@media print {\n",
    "  .jp-Cell.jp-Notebook-cell:last-child {\n",
    "    display: none;\n",
    "  }\n",
    "}\n",
    "\n",
    ":root {\n",
    "  --jp-content-link-color: dodgerblue;\n",
    "}\n",
    "@page {\n",
    "  size: A4 portrait;\n",
    "  margin: 5mm;\n",
    "}\n",
    "@media screen {\n",
    "    body {\n",
    "        margin: 5mm;\n",
    "    }\n",
    "}\n",
    "a code {\n",
    "    color: var(--jp-content-link-color) !important;\n",
    "}\n",
    ".jp-RenderedHTMLCommon {\n",
    "  font-family: Calibri, Verdana, sans-serif !important;\n",
    "  font-size: 13px !important;\n",
    "  font-weight: 400 !important;\n",
    "  line-height: 1.35 !important;\n",
    "}\n",
    "code, pre {\n",
    "    font-family: Monaco, monospace !important;\n",
    "}\n",
    "h1 {\n",
    "    text-align: center !important;\n",
    "}\n",
    "h1, h2, h3, h4, h5, h6, strong {\n",
    "    font-weight: 700 !important;\n",
    "}\n",
    "h2 {\n",
    "  page-break-before: always;\n",
    "}\n",
    "pre {\n",
    "  white-space: pre-wrap;\n",
    "}\n",
    "table, td, th, tr, tbody, thead, tfoot {\n",
    "  page-break-inside: avoid !important;\n",
    "}\n",
    ".jp-RenderedHTMLCommon td,\n",
    ".jp-RenderedHTMLCommon th,\n",
    ".jp-RenderedHTMLCommon tr {\n",
    "  border: 1px solid var(--md-grey-500);\n",
    "}\n",
    ".jp-RenderedHTMLCommon table {\n",
    "  margin-left: 2em;\n",
    "}\n",
    ".jp-CodeCell {\n",
    "    margin-bottom: 1.5em;\n",
    "}\n",
    "</style>"
   ]
  }
 ],
 "metadata": {
  "kernelspec": {
   "display_name": ".venv",
   "language": "python",
   "name": "python3"
  },
  "language_info": {
   "codemirror_mode": {
    "name": "ipython",
    "version": 3
   },
   "file_extension": ".py",
   "mimetype": "text/x-python",
   "name": "python",
   "nbconvert_exporter": "python",
   "pygments_lexer": "ipython3",
   "version": "3.12.2"
  }
 },
 "nbformat": 4,
 "nbformat_minor": 2
}
