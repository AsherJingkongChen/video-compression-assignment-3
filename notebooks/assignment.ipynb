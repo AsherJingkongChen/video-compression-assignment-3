{
 "cells": [
  {
   "cell_type": "markdown",
   "metadata": {},
   "source": [
    "# Video Compression Assignment 3"
   ]
  },
  {
   "cell_type": "markdown",
   "metadata": {},
   "source": [
    "In this assignment, we will use the block-based encoding approach, where the size of a block is 8x8. Only the Luma component is considered for the following questions."
   ]
  },
  {
   "cell_type": "markdown",
   "metadata": {},
   "source": [
    "### Prerequisites\n",
    "\n",
    "- Programming langauge: Python 3.10+ (IPython)\n",
    "- Framework: Jupyter"
   ]
  },
  {
   "cell_type": "markdown",
   "metadata": {},
   "source": [
    "Install dependencies from PyPI:"
   ]
  },
  {
   "cell_type": "code",
   "execution_count": 10,
   "metadata": {},
   "outputs": [],
   "source": [
    "# %pip install \\\n",
    "#     --disable-pip-version-check \\\n",
    "#     --quiet \\\n",
    "#     numpy \\\n",
    "#     Pillow"
   ]
  },
  {
   "cell_type": "markdown",
   "metadata": {},
   "source": [
    "## Task 1\n",
    "\n",
    "> Fourier Transform\n",
    "\n",
    "Please apply the Fourier Transform to the luma component of `foreman_qcif_0_rgb.bmp` and demonstrate its magnitudes in a 2-D image, as shown in the example below. Note that you need to shift the origin to the center of the image for the magnitude plot.\n",
    "\n",
    "<div style=\"text-align: center;\">\n",
    "    <img alt=\"Image 1\" src=\"/Users/yiran/Documents/practice/video-comp-assignment-3/notebooks/images/1.png\" width=\"50%\">\n",
    "</div>"
   ]
  },
  {
   "cell_type": "markdown",
   "metadata": {},
   "source": [
    "## Solution of Task 1"
   ]
  },
  {
   "cell_type": "markdown",
   "metadata": {},
   "source": []
  },
  {
   "cell_type": "code",
   "execution_count": null,
   "metadata": {},
   "outputs": [],
   "source": []
  },
  {
   "cell_type": "markdown",
   "metadata": {},
   "source": [
    "## Task 2\n",
    "\n",
    "> DCT\n",
    "\n",
    "Please apply DCT to all the 8x8 luma blocks of `foreman_qcif_0_rgb.bmp` and use the quantization matrix below for quantization. After DCT and quantization, please apply inverse quantization and IDCT to decode all the blocks and show the decoded frame.\n",
    "\n",
    "$$\n",
    "\\begin{bmatrix}\n",
    "16 & 11 & 10 & 16 & 24 & 40 & 51 & 61 \\\\\n",
    "12 & 12 & 14 & 19 & 26 & 58 & 60 & 55 \\\\\n",
    "14 & 13 & 16 & 24 & 40 & 57 & 69 & 56 \\\\\n",
    "14 & 17 & 22 & 29 & 51 & 87 & 80 & 62 \\\\\n",
    "18 & 22 & 37 & 56 & 68 & 109 & 103 & 77 \\\\\n",
    "24 & 35 & 55 & 64 & 81 & 104 & 113 & 92 \\\\\n",
    "49 & 64 & 78 & 87 & 103 & 121 & 120 & 101 \\\\\n",
    "72 & 92 & 95 & 98 & 112 & 100 & 103 & 99 \\\\\n",
    "\\end{bmatrix}\n",
    "$$"
   ]
  },
  {
   "cell_type": "markdown",
   "metadata": {},
   "source": [
    "## Solution of Task 2"
   ]
  },
  {
   "cell_type": "markdown",
   "metadata": {},
   "source": []
  },
  {
   "cell_type": "code",
   "execution_count": null,
   "metadata": {},
   "outputs": [],
   "source": []
  },
  {
   "cell_type": "code",
   "execution_count": 11,
   "metadata": {
    "vscode": {
     "languageId": "html"
    }
   },
   "outputs": [
    {
     "data": {
      "text/html": [
       "<style>\n",
       "/* Do not render this cell */\n",
       "@media print {\n",
       "  .jp-Cell.jp-Notebook-cell:last-child {\n",
       "    display: none;\n",
       "  }\n",
       "}\n",
       "\n",
       ":root {\n",
       "  --jp-content-link-color: dodgerblue;\n",
       "}\n",
       "@page {\n",
       "  size: A3 portrait;\n",
       "  margin: 5mm;\n",
       "}\n",
       "@media screen {\n",
       "    body {\n",
       "        margin: 5mm;\n",
       "    }\n",
       "}\n",
       "a code {\n",
       "    color: var(--jp-content-link-color) !important;\n",
       "}\n",
       ".jp-RenderedHTMLCommon {\n",
       "  font-family: Calibri, Verdana, sans-serif !important;\n",
       "  font-size: 13px !important;\n",
       "  font-weight: 400 !important;\n",
       "  line-height: 1.35 !important;\n",
       "}\n",
       "code, pre {\n",
       "    font-family: Monaco, monospace !important;\n",
       "}\n",
       "h1 {\n",
       "    text-align: center !important;\n",
       "}\n",
       "h1, h2, h3, h4, h5, h6, strong {\n",
       "    font-weight: 700 !important;\n",
       "}\n",
       "h2 {\n",
       "  page-break-before: always;\n",
       "}\n",
       "pre {\n",
       "  white-space: pre-wrap;\n",
       "}\n",
       "table, td, th, tr, tbody, thead, tfoot {\n",
       "  page-break-inside: avoid !important;\n",
       "}\n",
       ".jp-RenderedHTMLCommon td,\n",
       ".jp-RenderedHTMLCommon th,\n",
       ".jp-RenderedHTMLCommon tr {\n",
       "  border: 1px solid var(--md-grey-500);\n",
       "}\n",
       ".jp-RenderedHTMLCommon table {\n",
       "  margin-left: 2em;\n",
       "}\n",
       ".jp-CodeCell {\n",
       "    margin-bottom: 1.5em;\n",
       "}\n",
       "</style>\n"
      ],
      "text/plain": [
       "<IPython.core.display.HTML object>"
      ]
     },
     "metadata": {},
     "output_type": "display_data"
    }
   ],
   "source": [
    "%%html\n",
    "<style>\n",
    "/* Do not render this cell */\n",
    "@media print {\n",
    "  .jp-Cell.jp-Notebook-cell:last-child {\n",
    "    display: none;\n",
    "  }\n",
    "}\n",
    "\n",
    ":root {\n",
    "  --jp-content-link-color: dodgerblue;\n",
    "}\n",
    "@page {\n",
    "  size: A3 portrait;\n",
    "  margin: 5mm;\n",
    "}\n",
    "@media screen {\n",
    "    body {\n",
    "        margin: 5mm;\n",
    "    }\n",
    "}\n",
    "a code {\n",
    "    color: var(--jp-content-link-color) !important;\n",
    "}\n",
    ".jp-RenderedHTMLCommon {\n",
    "  font-family: Calibri, Verdana, sans-serif !important;\n",
    "  font-size: 13px !important;\n",
    "  font-weight: 400 !important;\n",
    "  line-height: 1.35 !important;\n",
    "}\n",
    "code, pre {\n",
    "    font-family: Monaco, monospace !important;\n",
    "}\n",
    "h1 {\n",
    "    text-align: center !important;\n",
    "}\n",
    "h1, h2, h3, h4, h5, h6, strong {\n",
    "    font-weight: 700 !important;\n",
    "}\n",
    "h2 {\n",
    "  page-break-before: always;\n",
    "}\n",
    "pre {\n",
    "  white-space: pre-wrap;\n",
    "}\n",
    "table, td, th, tr, tbody, thead, tfoot {\n",
    "  page-break-inside: avoid !important;\n",
    "}\n",
    ".jp-RenderedHTMLCommon td,\n",
    ".jp-RenderedHTMLCommon th,\n",
    ".jp-RenderedHTMLCommon tr {\n",
    "  border: 1px solid var(--md-grey-500);\n",
    "}\n",
    ".jp-RenderedHTMLCommon table {\n",
    "  margin-left: 2em;\n",
    "}\n",
    ".jp-CodeCell {\n",
    "    margin-bottom: 1.5em;\n",
    "}\n",
    "</style>"
   ]
  }
 ],
 "metadata": {
  "kernelspec": {
   "display_name": ".venv",
   "language": "python",
   "name": "python3"
  },
  "language_info": {
   "codemirror_mode": {
    "name": "ipython",
    "version": 3
   },
   "file_extension": ".py",
   "mimetype": "text/x-python",
   "name": "python",
   "nbconvert_exporter": "python",
   "pygments_lexer": "ipython3",
   "version": "3.12.2"
  }
 },
 "nbformat": 4,
 "nbformat_minor": 2
}
