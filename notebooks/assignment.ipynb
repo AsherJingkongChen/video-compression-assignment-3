{
 "cells": [
  {
   "cell_type": "markdown",
   "metadata": {},
   "source": [
    "# Video Compression Assignment 3"
   ]
  },
  {
   "cell_type": "markdown",
   "metadata": {},
   "source": [
    "In this assignment, we will use the block-based encoding approach, where the size of a block is 8x8. Only the Luma component is considered for the following questions."
   ]
  },
  {
   "cell_type": "markdown",
   "metadata": {},
   "source": [
    "### Prerequisites\n",
    "\n",
    "- Programming langauge: Python 3.10+ (IPython)\n",
    "- Framework: Jupyter"
   ]
  },
  {
   "cell_type": "markdown",
   "metadata": {},
   "source": [
    "Install dependencies from PyPI:"
   ]
  },
  {
   "cell_type": "code",
   "execution_count": 10,
   "metadata": {},
   "outputs": [],
   "source": [
    "# %pip install \\\n",
    "#     --disable-pip-version-check \\\n",
    "#     --quiet \\\n",
    "#     numpy \\\n",
    "#     Pillow"
   ]
  },
  {
   "cell_type": "markdown",
   "metadata": {},
   "source": [
    "## Task 1\n",
    "\n",
    "> Fourier Transform\n",
    "\n",
    "Please apply the Fourier Transform to the luma component of `foreman_qcif_0_rgb.bmp` and demonstrate its magnitudes in a 2-D image, as shown in the example below. Note that you need to shift the origin to the center of the image for the magnitude plot.\n",
    "\n",
    "<div style=\"text-align: center;\">\n",
    "    <img alt=\"Image 1\" src=\"https://raw.githubusercontent.com/AsherJingkongChen/video-compression-assignment-3/main/notebooks/images/1.png\" width=\"50%\">\n",
    "</div>"
   ]
  },
  {
   "cell_type": "markdown",
   "metadata": {},
   "source": [
    "## Solution of Task 1"
   ]
  },
  {
   "cell_type": "markdown",
   "metadata": {},
   "source": []
  },
  {
   "cell_type": "code",
   "execution_count": null,
   "metadata": {},
   "outputs": [],
   "source": []
  },
  {
   "cell_type": "markdown",
   "metadata": {},
   "source": [
    "## Task 2\n",
    "\n",
    "> DCT\n",
    "\n",
    "Please apply DCT to all the 8x8 luma blocks of `foreman_qcif_0_rgb.bmp` and use the quantization matrix below for quantization. After DCT and quantization, please apply inverse quantization and IDCT to decode all the blocks and show the decoded frame.\n",
    "\n",
    "$$\n",
    "\\begin{bmatrix}\n",
    "16 & 11 & 10 & 16 & 24 & 40 & 51 & 61 \\\\\n",
    "12 & 12 & 14 & 19 & 26 & 58 & 60 & 55 \\\\\n",
    "14 & 13 & 16 & 24 & 40 & 57 & 69 & 56 \\\\\n",
    "14 & 17 & 22 & 29 & 51 & 87 & 80 & 62 \\\\\n",
    "18 & 22 & 37 & 56 & 68 & 109 & 103 & 77 \\\\\n",
    "24 & 35 & 55 & 64 & 81 & 104 & 113 & 92 \\\\\n",
    "49 & 64 & 78 & 87 & 103 & 121 & 120 & 101 \\\\\n",
    "72 & 92 & 95 & 98 & 112 & 100 & 103 & 99 \\\\\n",
    "\\end{bmatrix}\n",
    "$$"
   ]
  },
  {
   "cell_type": "markdown",
   "metadata": {},
   "source": [
    "## Solution of Task 2"
   ]
  },
  {
   "cell_type": "markdown",
   "metadata": {},
   "source": [
    "### 2-D Discrete Cosine Transform\n",
    "\n",
    "#### Forward Transform (for `NxN` block)\n",
    "\n",
    "The formula adapted from the course slides:\n",
    "\n",
    "$$\n",
    "F(u, v) = \\frac{2}{N}C(u)C(v)\\sum_{x=0}^{N-1}\\sum_{y=0}^{N-1}f(x, y)\\cos\\left(\\frac{(2x+1)u\\pi}{2N}\\right)\\cos\\left(\\frac{(2y+1)v\\pi}{2N}\\right) \\\\\n",
    "\\text{where } C(t) = \\begin{cases} \\frac{2}{\\sqrt{N}} & \\text{if } t = 0 \\\\ 2 \\sqrt{\\frac{2}{N}} & \\text{otherwise} \\end{cases}$$\n",
    "\n",
    "can be simplified as:\n",
    "\n",
    "$$\n",
    "F(u, v) = \\frac{8}{N^{2}}C(u)C(v)\\sum_{x=0}^{N-1}\\sum_{y=0}^{N-1}f(x, y)\\cos\\left(\\frac{(2x+1)u\\pi}{2N}\\right)\\cos\\left(\\frac{(2y+1)v\\pi}{2N}\\right) \\\\\n",
    "\\text{where } C(t) = \\begin{cases} 1 & \\text{if } t = 0 \\\\ \\sqrt{2} & \\text{otherwise} \\end{cases}$$\n",
    "\n",
    "#### Inverse Transform (for `NxN` block)\n",
    "\n",
    "$$\n",
    "f(x, y) = \\frac{2}{N}\\sum_{u=0}^{N-1}\\sum_{v=0}^{N-1}C(u)C(v)F(u, v)\\cos\\left(\\frac{(2x+1)u\\pi}{2N}\\right)\\cos\\left(\\frac{(2y+1)v\\pi}{2N}\\right) \\\\\n",
    "\\text{where } C(t) = \\begin{cases} \\frac{2}{\\sqrt{N}} & \\text{if } t = 0 \\\\ 2 \\sqrt{\\frac{2}{N}} & \\text{otherwise} \\end{cases}\n",
    "$$\n",
    "\n",
    "can be simplified as:\n",
    "\n",
    "$$\n",
    "f(x, y) = \\frac{8}{N^{2}}\\sum_{u=0}^{N-1}\\sum_{v=0}^{N-1}C(u)C(v)F(u, v)\\cos\\left(\\frac{(2x+1)u\\pi}{2N}\\right)\\cos\\left(\\frac{(2y+1)v\\pi}{2N}\\right) \\\\\n",
    "\\text{where } C(t) = \\begin{cases} 1 & \\text{if } t = 0 \\\\ \\sqrt{2} & \\text{otherwise} \\end{cases}$$"
   ]
  },
  {
   "cell_type": "markdown",
   "metadata": {},
   "source": [
    "Implement the DCT and IDCT functions:"
   ]
  },
  {
   "cell_type": "code",
   "execution_count": 119,
   "metadata": {},
   "outputs": [],
   "source": [
    "from numpy.typing import NDArray\n",
    "from numpy import float64, uint8\n",
    "\n",
    "\n",
    "def dct_forward(source: NDArray[uint8], block_size: int) -> NDArray[float64]:\n",
    "    from numpy import zeros_like, asfarray, atleast_2d\n",
    "    from math import sqrt, cos, pi\n",
    "\n",
    "    source = asfarray(atleast_2d(source))\n",
    "\n",
    "    N = block_size\n",
    "    C = 8 / N / N\n",
    "    PI_2N = pi / 2 / N\n",
    "    SR_2 = sqrt(2)\n",
    "\n",
    "    target = source.copy()\n",
    "    for i in range(0, target.shape[0] - N + 1, N):\n",
    "        for j in range(0, target.shape[1] - N + 1, N):\n",
    "            f = source[i : i + N, j : j + N]\n",
    "            g = zeros_like(f)\n",
    "            for u in range(N):\n",
    "                for v in range(N):\n",
    "                    a = 0.0\n",
    "                    for x in range(N):\n",
    "                        for y in range(N):\n",
    "                            a += (\n",
    "                                f[x, y]\n",
    "                                * cos((2 * x + 1) * u * PI_2N)\n",
    "                                * cos((2 * y + 1) * v * PI_2N)\n",
    "                            )\n",
    "                    g[u, v] = C * (1 if u == 0 else SR_2) * (1 if v == 0 else SR_2) * a\n",
    "            target[i : i + N, j : j + N] = g\n",
    "    return target\n",
    "\n",
    "\n",
    "def dct_inverse(source: NDArray[float64], block_size: int) -> NDArray[uint8]:\n",
    "    from numpy import zeros_like, asfarray, atleast_2d, uint8\n",
    "    from math import cos, pi, sqrt\n",
    "\n",
    "    source = asfarray(atleast_2d(source))\n",
    "\n",
    "    N = block_size\n",
    "    C = 8 / N / N\n",
    "    PI_2N = pi / 2 / N\n",
    "    SR_2 = sqrt(2)\n",
    "\n",
    "    target = source.copy()\n",
    "    for i in range(0, target.shape[0] - N + 1, N):\n",
    "        for j in range(0, target.shape[1] - N + 1, N):\n",
    "            g = source[i : i + N, j : j + N]\n",
    "            f = zeros_like(g)\n",
    "            for x in range(N):\n",
    "                for y in range(N):\n",
    "                    a = 0.0\n",
    "                    for u in range(N):\n",
    "                        for v in range(N):\n",
    "                            a += (\n",
    "                                (1 if u == 0 else SR_2)\n",
    "                                * (1 if v == 0 else SR_2)\n",
    "                                * g[u, v]\n",
    "                                * cos((2 * x + 1) * u * PI_2N)\n",
    "                                * cos((2 * y + 1) * v * PI_2N)\n",
    "                            )\n",
    "                    f[x, y] = round(C * a)\n",
    "            target[i : i + N, j : j + N] = f\n",
    "    target = target.round().astype(uint8)\n",
    "    return target"
   ]
  },
  {
   "cell_type": "markdown",
   "metadata": {},
   "source": [
    "Test the DCT and IDCT functions:"
   ]
  },
  {
   "cell_type": "code",
   "execution_count": 151,
   "metadata": {},
   "outputs": [
    {
     "name": "stdout",
     "output_type": "stream",
     "text": [
      "[[ 961.   -35.3  -31.7 ... -115.     3.1 -105.4]\n",
      " [-129.7  155.7   11.  ...   13.3 -100.1  -31.1]\n",
      " [  17.8   21.3  -65.1 ...   35.8   92.7   22.8]\n",
      " ...\n",
      " [  56.   -46.2   40.9 ...   -5.7  -55.6  -24.8]\n",
      " [ 141.5  -71.6  -62.1 ...  -99.1  116.2   21.4]\n",
      " [ 200.   202.     4.  ...  247.    40.    59. ]]\n"
     ]
    }
   ],
   "source": [
    "from numpy.random import randint\n",
    "from numpy import set_printoptions\n",
    "\n",
    "mat = randint(low=0, high=256, size=(9, 8), dtype=uint8)\n",
    "mat_dct = dct_forward(mat, 8)\n",
    "mat_idct = dct_inverse(mat_dct, 8)\n",
    "\n",
    "set_printoptions(suppress=True)\n",
    "print(mat_dct.round(1))\n",
    "\n",
    "assert (mat == mat_idct).all()"
   ]
  },
  {
   "cell_type": "code",
   "execution_count": 11,
   "metadata": {
    "vscode": {
     "languageId": "html"
    }
   },
   "outputs": [
    {
     "data": {
      "text/html": [
       "<style>\n",
       "/* Do not render this cell */\n",
       "@media print {\n",
       "  .jp-Cell.jp-Notebook-cell:last-child {\n",
       "    display: none;\n",
       "  }\n",
       "}\n",
       "\n",
       ":root {\n",
       "  --jp-content-link-color: dodgerblue;\n",
       "}\n",
       "@page {\n",
       "  size: A3 portrait;\n",
       "  margin: 5mm;\n",
       "}\n",
       "@media screen {\n",
       "    body {\n",
       "        margin: 5mm;\n",
       "    }\n",
       "}\n",
       "a code {\n",
       "    color: var(--jp-content-link-color) !important;\n",
       "}\n",
       ".jp-RenderedHTMLCommon {\n",
       "  font-family: Calibri, Verdana, sans-serif !important;\n",
       "  font-size: 13px !important;\n",
       "  font-weight: 400 !important;\n",
       "  line-height: 1.35 !important;\n",
       "}\n",
       "code, pre {\n",
       "    font-family: Monaco, monospace !important;\n",
       "}\n",
       "h1 {\n",
       "    text-align: center !important;\n",
       "}\n",
       "h1, h2, h3, h4, h5, h6, strong {\n",
       "    font-weight: 700 !important;\n",
       "}\n",
       "h2 {\n",
       "  page-break-before: always;\n",
       "}\n",
       "pre {\n",
       "  white-space: pre-wrap;\n",
       "}\n",
       "table, td, th, tr, tbody, thead, tfoot {\n",
       "  page-break-inside: avoid !important;\n",
       "}\n",
       ".jp-RenderedHTMLCommon td,\n",
       ".jp-RenderedHTMLCommon th,\n",
       ".jp-RenderedHTMLCommon tr {\n",
       "  border: 1px solid var(--md-grey-500);\n",
       "}\n",
       ".jp-RenderedHTMLCommon table {\n",
       "  margin-left: 2em;\n",
       "}\n",
       ".jp-CodeCell {\n",
       "    margin-bottom: 1.5em;\n",
       "}\n",
       "</style>\n"
      ],
      "text/plain": [
       "<IPython.core.display.HTML object>"
      ]
     },
     "metadata": {},
     "output_type": "display_data"
    }
   ],
   "source": [
    "%%html\n",
    "<style>\n",
    "/* Do not render this cell */\n",
    "@media print {\n",
    "  .jp-Cell.jp-Notebook-cell:last-child {\n",
    "    display: none;\n",
    "  }\n",
    "}\n",
    "\n",
    ":root {\n",
    "  --jp-content-link-color: dodgerblue;\n",
    "}\n",
    "@page {\n",
    "  size: A3 portrait;\n",
    "  margin: 5mm;\n",
    "}\n",
    "@media screen {\n",
    "    body {\n",
    "        margin: 5mm;\n",
    "    }\n",
    "}\n",
    "a code {\n",
    "    color: var(--jp-content-link-color) !important;\n",
    "}\n",
    ".jp-RenderedHTMLCommon {\n",
    "  font-family: Calibri, Verdana, sans-serif !important;\n",
    "  font-size: 13px !important;\n",
    "  font-weight: 400 !important;\n",
    "  line-height: 1.35 !important;\n",
    "}\n",
    "code, pre {\n",
    "    font-family: Monaco, monospace !important;\n",
    "}\n",
    "h1 {\n",
    "    text-align: center !important;\n",
    "}\n",
    "h1, h2, h3, h4, h5, h6, strong {\n",
    "    font-weight: 700 !important;\n",
    "}\n",
    "h2 {\n",
    "  page-break-before: always;\n",
    "}\n",
    "pre {\n",
    "  white-space: pre-wrap;\n",
    "}\n",
    "table, td, th, tr, tbody, thead, tfoot {\n",
    "  page-break-inside: avoid !important;\n",
    "}\n",
    ".jp-RenderedHTMLCommon td,\n",
    ".jp-RenderedHTMLCommon th,\n",
    ".jp-RenderedHTMLCommon tr {\n",
    "  border: 1px solid var(--md-grey-500);\n",
    "}\n",
    ".jp-RenderedHTMLCommon table {\n",
    "  margin-left: 2em;\n",
    "}\n",
    ".jp-CodeCell {\n",
    "    margin-bottom: 1.5em;\n",
    "}\n",
    "</style>"
   ]
  }
 ],
 "metadata": {
  "kernelspec": {
   "display_name": ".venv",
   "language": "python",
   "name": "python3"
  },
  "language_info": {
   "codemirror_mode": {
    "name": "ipython",
    "version": 3
   },
   "file_extension": ".py",
   "mimetype": "text/x-python",
   "name": "python",
   "nbconvert_exporter": "python",
   "pygments_lexer": "ipython3",
   "version": "3.12.2"
  }
 },
 "nbformat": 4,
 "nbformat_minor": 2
}
